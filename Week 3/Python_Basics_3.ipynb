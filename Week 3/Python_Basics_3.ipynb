{
  "nbformat": 4,
  "nbformat_minor": 0,
  "metadata": {
    "anaconda-cloud": {},
    "kernelspec": {
      "display_name": "Python 3",
      "language": "python",
      "name": "python3"
    },
    "language_info": {
      "codemirror_mode": {
        "name": "ipython",
        "version": 3
      },
      "file_extension": ".py",
      "mimetype": "text/x-python",
      "name": "python",
      "nbconvert_exporter": "python",
      "pygments_lexer": "ipython3",
      "version": "3.7.4"
    },
    "colab": {
      "name": "Python Basics 3.ipynb",
      "provenance": [],
      "collapsed_sections": [
        "lVYmTTqUUA9b",
        "Z7bzTiAsUA9d",
        "X3hu_9_wUA9d",
        "dWES4gkaUA9e",
        "_xwjSL5bUA9f",
        "9ESCD5pkUA9g",
        "6nv24oNJUA9g",
        "ABB9E6mZUA9h",
        "bHadI7S7UA9k",
        "BCj7STYnUA9m",
        "3robg4EeUA9m",
        "Q1nxERMfUA9o",
        "CSNwN6dxUA9p",
        "NTCZoPKxUA9p",
        "IVQ1RJGXUA9q",
        "f1ScRUmQUA9r",
        "Gashjqe9UA9r",
        "e7URoj-NUA9s",
        "mIsyrTL2UA9s",
        "dGDE21t0UA9t"
      ],
      "toc_visible": true
    }
  },
  "cells": [
    {
      "cell_type": "markdown",
      "metadata": {
        "id": "eJR52Kv4UA8h"
      },
      "source": [
        "# Introduction to Python - Programming"
      ]
    },
    {
      "cell_type": "markdown",
      "metadata": {
        "id": "b4jriuLWUA9Z"
      },
      "source": [
        "## Control Flow"
      ]
    },
    {
      "cell_type": "markdown",
      "metadata": {
        "id": "-N7PRAjlUA9Z"
      },
      "source": [
        "### Conditional statements: if, elif, else"
      ]
    },
    {
      "cell_type": "markdown",
      "metadata": {
        "id": "eZ0ViPvcUA9Z"
      },
      "source": [
        "The Python syntax for conditional execution of code uses the keywords `if`, `elif` (else if), `else`:"
      ]
    },
    {
      "cell_type": "markdown",
      "metadata": {
        "id": "YUtbp1UKUA9Z"
      },
      "source": [
        "> ### Basic Syntax\n",
        "\n",
        "    if (condition 1):\n",
        "        action 1\n",
        "    elif (condition 2):\n",
        "        action 2\n",
        "        ...\n",
        "    elif (condition n):\n",
        "        action n\n",
        "        ...\n",
        "    else:\n",
        "        alternative\n",
        "        \n",
        "        \n",
        "> ### Ternary if-then-else        \n",
        "        \n",
        "    action if condition else alternative   "
      ]
    },
    {
      "cell_type": "code",
      "metadata": {
        "id": "Ht0DJLQ3UA9Z",
        "colab": {
          "base_uri": "https://localhost:8080/"
        },
        "outputId": "fe3c1369-35c3-4226-f234-44cd3696290e"
      },
      "source": [
        "a = 2\n",
        "statement2 = False\n",
        "\n",
        "if True:\n",
        "    print(\"statement1 is True\")\n",
        "    \n",
        "elif statement2:\n",
        "    print(\"statement2 is True\")\n",
        "    \n",
        "else:\n",
        "    print(\"statement1 and statement2 are False\")"
      ],
      "execution_count": null,
      "outputs": [
        {
          "output_type": "stream",
          "text": [
            "statement1 is True\n"
          ],
          "name": "stdout"
        }
      ]
    },
    {
      "cell_type": "code",
      "metadata": {
        "colab": {
          "base_uri": "https://localhost:8080/"
        },
        "id": "Y_6jfVwbbzOY",
        "outputId": "8849c963-fa31-4bbb-e92b-838cac276a66"
      },
      "source": [
        "if (a==3):\n",
        "  print(\"hi\")\n",
        "\n",
        "if (a==2):\n",
        "  print(\"bye\")\n",
        "\n",
        "\n"
      ],
      "execution_count": null,
      "outputs": [
        {
          "output_type": "stream",
          "text": [
            "bye\n"
          ],
          "name": "stdout"
        }
      ]
    },
    {
      "cell_type": "markdown",
      "metadata": {
        "id": "rmQujyO9UA9a"
      },
      "source": [
        "#### Examples:"
      ]
    },
    {
      "cell_type": "code",
      "metadata": {
        "id": "YT25iD5Bci4k"
      },
      "source": [
        "statement1 = True\n",
        "statement2 = True"
      ],
      "execution_count": null,
      "outputs": []
    },
    {
      "cell_type": "code",
      "metadata": {
        "id": "W9m8D9-kUA9a",
        "colab": {
          "base_uri": "https://localhost:8080/"
        },
        "outputId": "3ee91d69-ab1c-4991-913c-ff13fa06f16c"
      },
      "source": [
        "statement1 = statement2 = True\n",
        "\n",
        "if statement1:\n",
        "    if statement2:\n",
        "        print(\"both statement1 and statement2 are True\")"
      ],
      "execution_count": null,
      "outputs": [
        {
          "output_type": "stream",
          "text": [
            "both statement1 and statement2 are True\n"
          ],
          "name": "stdout"
        }
      ]
    },
    {
      "cell_type": "code",
      "metadata": {
        "id": "o9rTwpydUA9a",
        "colab": {
          "base_uri": "https://localhost:8080/"
        },
        "outputId": "d361ab0f-0e3f-45c2-b738-2e241a189498"
      },
      "source": [
        "# Bad indentation!\n",
        "if statement1:\n",
        "    if statement2:\n",
        "      print(\"both statement1 and statement2 are True\")  # this line is not properly indented"
      ],
      "execution_count": null,
      "outputs": [
        {
          "output_type": "stream",
          "text": [
            "both statement1 and statement2 are True\n"
          ],
          "name": "stdout"
        }
      ]
    },
    {
      "cell_type": "code",
      "metadata": {
        "id": "p95dXVaIUA9a"
      },
      "source": [
        "name = 'Chandra'"
      ],
      "execution_count": null,
      "outputs": []
    },
    {
      "cell_type": "code",
      "metadata": {
        "id": "buuyUWn7UA9a",
        "colab": {
          "base_uri": "https://localhost:8080/"
        },
        "outputId": "ff48739d-0745-4149-c1b4-22a19dd18f38"
      },
      "source": [
        "if (name == 'Chandra'):\n",
        "    print('Hi Chandra')"
      ],
      "execution_count": null,
      "outputs": [
        {
          "output_type": "stream",
          "text": [
            "Hi Chandra\n"
          ],
          "name": "stdout"
        }
      ]
    },
    {
      "cell_type": "code",
      "metadata": {
        "id": "2FFjMeqHUA9a",
        "colab": {
          "base_uri": "https://localhost:8080/"
        },
        "outputId": "cb7eb00d-7a6f-47db-fd88-b87d6cadfdbd"
      },
      "source": [
        "if name != 'Alice':\n",
        "    print('You are not Alice')"
      ],
      "execution_count": null,
      "outputs": [
        {
          "output_type": "stream",
          "text": [
            "You are not Alice\n"
          ],
          "name": "stdout"
        }
      ]
    },
    {
      "cell_type": "code",
      "metadata": {
        "id": "DtrJMI4MUA9b",
        "colab": {
          "base_uri": "https://localhost:8080/"
        },
        "outputId": "3771fab1-6ad2-419e-d427-0655ec50aa40"
      },
      "source": [
        "if name == 'John':\n",
        "    print('How are you?')\n",
        "else:\n",
        "    print('Nice to meet you.')"
      ],
      "execution_count": null,
      "outputs": [
        {
          "output_type": "stream",
          "text": [
            "Nice to meet you.\n"
          ],
          "name": "stdout"
        }
      ]
    },
    {
      "cell_type": "code",
      "metadata": {
        "id": "CFZGztTrUA9b"
      },
      "source": [
        "name = 'Joe'\n",
        "age = 15\n",
        "lastname = 'Doe'"
      ],
      "execution_count": null,
      "outputs": []
    },
    {
      "cell_type": "code",
      "metadata": {
        "id": "JU1jx7hiUA9b",
        "colab": {
          "base_uri": "https://localhost:8080/"
        },
        "outputId": "d9390e99-cb70-4fd6-bd41-e84dce4cda21"
      },
      "source": [
        "if (name == 'John'):\n",
        "    print('How are you?')\n",
        "elif age < 18:\n",
        "    print(\"You're just a teenager\")\n",
        "elif (lastname == 'Doe'):\n",
        "    print(\"Never heard that name before\")\n",
        "else:\n",
        "    print('you do not qualify')\n",
        "\n"
      ],
      "execution_count": null,
      "outputs": [
        {
          "output_type": "stream",
          "text": [
            "You're just a teenager\n"
          ],
          "name": "stdout"
        }
      ]
    },
    {
      "cell_type": "markdown",
      "metadata": {
        "id": "lVYmTTqUUA9b"
      },
      "source": [
        "#### Ternary if-then-else example"
      ]
    },
    {
      "cell_type": "code",
      "metadata": {
        "id": "4mx14xqJUA9b",
        "colab": {
          "base_uri": "https://localhost:8080/"
        },
        "outputId": "f78ce7b2-3093-4a6d-a486-28c38c4f7189"
      },
      "source": [
        "x = 15; y = 13\n",
        "\n",
        "1 if (x > y) else 0"
      ],
      "execution_count": null,
      "outputs": [
        {
          "output_type": "execute_result",
          "data": {
            "text/plain": [
              "1"
            ]
          },
          "metadata": {
            "tags": []
          },
          "execution_count": 55
        }
      ]
    },
    {
      "cell_type": "code",
      "metadata": {
        "id": "2_IDILbtUA9c",
        "colab": {
          "base_uri": "https://localhost:8080/",
          "height": 37
        },
        "outputId": "9872869b-afec-45de-9a4e-6f3e5743bf46"
      },
      "source": [
        "'How are you' if name == 'Joe' else 'Who are you again?'"
      ],
      "execution_count": null,
      "outputs": [
        {
          "output_type": "execute_result",
          "data": {
            "application/vnd.google.colaboratory.intrinsic+json": {
              "type": "string"
            },
            "text/plain": [
              "'How are you'"
            ]
          },
          "metadata": {
            "tags": []
          },
          "execution_count": 57
        }
      ]
    },
    {
      "cell_type": "code",
      "metadata": {
        "colab": {
          "base_uri": "https://localhost:8080/",
          "height": 37
        },
        "id": "h_F1JyCXd2a2",
        "outputId": "dce37073-ba26-48b6-db48-7441da91833e"
      },
      "source": [
        "'hi'\n",
        "'jo'"
      ],
      "execution_count": null,
      "outputs": [
        {
          "output_type": "execute_result",
          "data": {
            "application/vnd.google.colaboratory.intrinsic+json": {
              "type": "string"
            },
            "text/plain": [
              "'jo'"
            ]
          },
          "metadata": {
            "tags": []
          },
          "execution_count": 59
        }
      ]
    },
    {
      "cell_type": "code",
      "metadata": {
        "id": "SqnfIgMVUA9d"
      },
      "source": [
        "name='chandra'"
      ],
      "execution_count": null,
      "outputs": []
    },
    {
      "cell_type": "code",
      "metadata": {
        "id": "7bDtMlLEUA9d",
        "colab": {
          "base_uri": "https://localhost:8080/"
        },
        "outputId": "54d66328-7223-4e4d-c5c7-9cf88c63b310"
      },
      "source": [
        "if name == 'John':\n",
        "    print ('How are you')\n",
        "else:\n",
        "    print ('Who are you again?')"
      ],
      "execution_count": null,
      "outputs": [
        {
          "output_type": "stream",
          "text": [
            "Who are you again?\n"
          ],
          "name": "stdout"
        }
      ]
    },
    {
      "cell_type": "code",
      "metadata": {
        "id": "RIr8Zfv-UA9d",
        "colab": {
          "base_uri": "https://localhost:8080/",
          "height": 37
        },
        "outputId": "2f50e29a-5c94-4eec-cf24-8c896d0b1b89"
      },
      "source": [
        "'How are you' if name=='John' else 'Who are you?'"
      ],
      "execution_count": null,
      "outputs": [
        {
          "output_type": "execute_result",
          "data": {
            "application/vnd.google.colaboratory.intrinsic+json": {
              "type": "string"
            },
            "text/plain": [
              "'Who are you?'"
            ]
          },
          "metadata": {
            "tags": []
          },
          "execution_count": 62
        }
      ]
    },
    {
      "cell_type": "markdown",
      "metadata": {
        "id": "Z7bzTiAsUA9d"
      },
      "source": [
        "## Loops"
      ]
    },
    {
      "cell_type": "markdown",
      "metadata": {
        "id": "yoPc0uvzUA9d"
      },
      "source": [
        "In Python, loops can be programmed in a number of different ways. The most common is the `for` loop, which is used together with iterable objects, such as lists. The basic syntax is:"
      ]
    },
    {
      "cell_type": "markdown",
      "metadata": {
        "id": "X3hu_9_wUA9d"
      },
      "source": [
        "### **`for` loops**:\n",
        "> #### Generating numbers for iterating over using <br><br> `range(), arange(), linspace(), list()`"
      ]
    },
    {
      "cell_type": "code",
      "metadata": {
        "id": "LrsvS6VRUA9d",
        "colab": {
          "base_uri": "https://localhost:8080/"
        },
        "outputId": "2f0d5f86-181d-4941-fa19-39b6a41f60ff"
      },
      "source": [
        "# Python's builtin range function - gives only natural numbers\n",
        "range(0, 10, 2)\n",
        "\n",
        "# range() => a list"
      ],
      "execution_count": null,
      "outputs": [
        {
          "output_type": "execute_result",
          "data": {
            "text/plain": [
              "range(0, 10, 2)"
            ]
          },
          "metadata": {
            "tags": []
          },
          "execution_count": 63
        }
      ]
    },
    {
      "cell_type": "code",
      "metadata": {
        "id": "ABUcrtytUA9d",
        "colab": {
          "base_uri": "https://localhost:8080/"
        },
        "outputId": "2076098c-3646-40fa-a3d0-30eac384c417"
      },
      "source": [
        "# arange from the numpy module - gives fractional numbers as well\n",
        "import numpy as np\n",
        "np.arange(0, 10, 2)\n",
        "\n",
        "# arange() => numpy array"
      ],
      "execution_count": null,
      "outputs": [
        {
          "output_type": "execute_result",
          "data": {
            "text/plain": [
              "array([0, 2, 4, 6, 8])"
            ]
          },
          "metadata": {
            "tags": []
          },
          "execution_count": 66
        }
      ]
    },
    {
      "cell_type": "code",
      "metadata": {
        "id": "CQ7VQtvlUA9d",
        "colab": {
          "base_uri": "https://localhost:8080/"
        },
        "outputId": "97f64480-7e8b-4a15-c731-de1d114b8ccf"
      },
      "source": [
        "# find equdistant values in a given range\n",
        "np.linspace(0, 1, 50).round(2)"
      ],
      "execution_count": null,
      "outputs": [
        {
          "output_type": "execute_result",
          "data": {
            "text/plain": [
              "array([0.  , 0.02, 0.04, 0.06, 0.08, 0.1 , 0.12, 0.14, 0.16, 0.18, 0.2 ,\n",
              "       0.22, 0.24, 0.27, 0.29, 0.31, 0.33, 0.35, 0.37, 0.39, 0.41, 0.43,\n",
              "       0.45, 0.47, 0.49, 0.51, 0.53, 0.55, 0.57, 0.59, 0.61, 0.63, 0.65,\n",
              "       0.67, 0.69, 0.71, 0.73, 0.76, 0.78, 0.8 , 0.82, 0.84, 0.86, 0.88,\n",
              "       0.9 , 0.92, 0.94, 0.96, 0.98, 1.  ])"
            ]
          },
          "metadata": {
            "tags": []
          },
          "execution_count": 20
        }
      ]
    },
    {
      "cell_type": "code",
      "metadata": {
        "id": "69dgj1fiUA9e",
        "colab": {
          "base_uri": "https://localhost:8080/"
        },
        "outputId": "649ddb77-56ae-4727-cb52-7c7aa13d0f91"
      },
      "source": [
        "list('abcde')"
      ],
      "execution_count": null,
      "outputs": [
        {
          "output_type": "execute_result",
          "data": {
            "text/plain": [
              "['a', 'b', 'c', 'd', 'e']"
            ]
          },
          "metadata": {
            "tags": []
          },
          "execution_count": 21
        }
      ]
    },
    {
      "cell_type": "markdown",
      "metadata": {
        "id": "dWES4gkaUA9e"
      },
      "source": [
        "### lists are iterables"
      ]
    },
    {
      "cell_type": "code",
      "metadata": {
        "id": "BpEk8ejmUA9e",
        "colab": {
          "base_uri": "https://localhost:8080/"
        },
        "outputId": "9b243b3d-065a-4942-c91b-8f9f06f2dbdc"
      },
      "source": [
        "for x in [1,2,3]:\n",
        "    print(x)"
      ],
      "execution_count": null,
      "outputs": [
        {
          "output_type": "stream",
          "text": [
            "1\n",
            "2\n",
            "3\n"
          ],
          "name": "stdout"
        }
      ]
    },
    {
      "cell_type": "markdown",
      "metadata": {
        "id": "D-sinyITUA9e"
      },
      "source": [
        "The `for` loop iterates over the elements of the supplied list, and executes the containing block once for each element. Any kind of list can be used in the `for` loop. For example:"
      ]
    },
    {
      "cell_type": "code",
      "metadata": {
        "id": "MUKRaqAKUA9e",
        "colab": {
          "base_uri": "https://localhost:8080/"
        },
        "outputId": "42fe9a80-6592-4b80-84dd-a8bc51bbed05"
      },
      "source": [
        "for x in range(4): # by default range start at 0\n",
        "    print(x)"
      ],
      "execution_count": null,
      "outputs": [
        {
          "output_type": "stream",
          "text": [
            "0\n",
            "1\n",
            "2\n",
            "3\n"
          ],
          "name": "stdout"
        }
      ]
    },
    {
      "cell_type": "markdown",
      "metadata": {
        "id": "b-rjCKIwUA9e"
      },
      "source": [
        "Note: `range(4)` does not include 4 !"
      ]
    },
    {
      "cell_type": "code",
      "metadata": {
        "id": "8uajZEqCUA9e",
        "colab": {
          "base_uri": "https://localhost:8080/"
        },
        "outputId": "7f1ed395-26f7-4eea-c03b-6910356d4a50"
      },
      "source": [
        "for x in range(-3,3):\n",
        "    print(x)"
      ],
      "execution_count": null,
      "outputs": [
        {
          "output_type": "stream",
          "text": [
            "-3\n",
            "-2\n",
            "-1\n",
            "0\n",
            "1\n",
            "2\n"
          ],
          "name": "stdout"
        }
      ]
    },
    {
      "cell_type": "code",
      "metadata": {
        "id": "XEiYA3lqUA9e",
        "colab": {
          "base_uri": "https://localhost:8080/"
        },
        "outputId": "69a5c9a7-708b-46fe-b125-77c3cb028f36"
      },
      "source": [
        "for word in [\"scientific\", \"computing\", \"with\", \"python\"]:\n",
        "    print(word)"
      ],
      "execution_count": null,
      "outputs": [
        {
          "output_type": "stream",
          "text": [
            "scientific\n",
            "computing\n",
            "with\n",
            "python\n"
          ],
          "name": "stdout"
        }
      ]
    },
    {
      "cell_type": "markdown",
      "metadata": {
        "id": "SZkycKO-UA9f"
      },
      "source": [
        "To iterate over key-value pairs of a dictionary:"
      ]
    },
    {
      "cell_type": "code",
      "metadata": {
        "id": "0OyapDYhUA9f",
        "colab": {
          "base_uri": "https://localhost:8080/",
          "height": 181
        },
        "outputId": "a02a4230-ca9c-4acb-ab68-67bef26e065f"
      },
      "source": [
        "for key, value in params.items():\n",
        "    print(key + \" = \" + str(value))"
      ],
      "execution_count": null,
      "outputs": [
        {
          "output_type": "error",
          "ename": "NameError",
          "evalue": "ignored",
          "traceback": [
            "\u001b[0;31m---------------------------------------------------------------------------\u001b[0m",
            "\u001b[0;31mNameError\u001b[0m                                 Traceback (most recent call last)",
            "\u001b[0;32m<ipython-input-30-17f5d9f5258a>\u001b[0m in \u001b[0;36m<module>\u001b[0;34m()\u001b[0m\n\u001b[0;32m----> 1\u001b[0;31m \u001b[0;32mfor\u001b[0m \u001b[0mkey\u001b[0m\u001b[0;34m,\u001b[0m \u001b[0mvalue\u001b[0m \u001b[0;32min\u001b[0m \u001b[0mparams\u001b[0m\u001b[0;34m.\u001b[0m\u001b[0mitems\u001b[0m\u001b[0;34m(\u001b[0m\u001b[0;34m)\u001b[0m\u001b[0;34m:\u001b[0m\u001b[0;34m\u001b[0m\u001b[0;34m\u001b[0m\u001b[0m\n\u001b[0m\u001b[1;32m      2\u001b[0m     \u001b[0mprint\u001b[0m\u001b[0;34m(\u001b[0m\u001b[0mkey\u001b[0m \u001b[0;34m+\u001b[0m \u001b[0;34m\" = \"\u001b[0m \u001b[0;34m+\u001b[0m \u001b[0mstr\u001b[0m\u001b[0;34m(\u001b[0m\u001b[0mvalue\u001b[0m\u001b[0;34m)\u001b[0m\u001b[0;34m)\u001b[0m\u001b[0;34m\u001b[0m\u001b[0;34m\u001b[0m\u001b[0m\n",
            "\u001b[0;31mNameError\u001b[0m: name 'params' is not defined"
          ]
        }
      ]
    },
    {
      "cell_type": "markdown",
      "metadata": {
        "id": "-jCLKcwDUA9f"
      },
      "source": [
        "Sometimes it is useful to have access to the indices of the values when iterating over a list. We can use the `enumerate` function for this:"
      ]
    },
    {
      "cell_type": "code",
      "metadata": {
        "id": "QLEwDftCUA9f",
        "colab": {
          "base_uri": "https://localhost:8080/"
        },
        "outputId": "aa9751d6-ed45-49a6-ddf4-ec5ee83cc725"
      },
      "source": [
        "for idx, x in enumerate(range(-3,3)):\n",
        "    print(x, x**2)"
      ],
      "execution_count": null,
      "outputs": [
        {
          "output_type": "stream",
          "text": [
            "-3 9\n",
            "-2 4\n",
            "-1 1\n",
            "0 0\n",
            "1 1\n",
            "2 4\n"
          ],
          "name": "stdout"
        }
      ]
    },
    {
      "cell_type": "code",
      "metadata": {
        "id": "T5q3Hrp8UA9f",
        "colab": {
          "base_uri": "https://localhost:8080/"
        },
        "outputId": "a33afdc1-6a13-4104-e79e-13947fdb25df"
      },
      "source": [
        "for i in range(6):\n",
        "    print ('*' * i)\n",
        "\n",
        "for i in range(5, 0, -1):\n",
        "    print ('*' * i)"
      ],
      "execution_count": null,
      "outputs": [
        {
          "output_type": "stream",
          "text": [
            "\n",
            "*\n",
            "**\n",
            "***\n",
            "****\n",
            "*****\n",
            "*****\n",
            "****\n",
            "***\n",
            "**\n",
            "*\n"
          ],
          "name": "stdout"
        }
      ]
    },
    {
      "cell_type": "markdown",
      "metadata": {
        "id": "_xwjSL5bUA9f"
      },
      "source": [
        "### List comprehensions: Creating lists using `for` loops:"
      ]
    },
    {
      "cell_type": "markdown",
      "metadata": {
        "id": "DI8g3EkQUA9f"
      },
      "source": [
        "A convenient and compact way to initialize lists:"
      ]
    },
    {
      "cell_type": "code",
      "metadata": {
        "colab": {
          "base_uri": "https://localhost:8080/"
        },
        "id": "4NnzGVSSgH9s",
        "outputId": "7c4158b0-7c14-4af9-9e7d-54e5c12fa8db"
      },
      "source": [
        "y=range(0,5)\n",
        "print(y)"
      ],
      "execution_count": null,
      "outputs": [
        {
          "output_type": "stream",
          "text": [
            "range(0, 5)\n"
          ],
          "name": "stdout"
        }
      ]
    },
    {
      "cell_type": "code",
      "metadata": {
        "id": "mOe0QKIlUA9f",
        "colab": {
          "base_uri": "https://localhost:8080/"
        },
        "outputId": "00521b47-fdf4-4352-d2ff-40b9007c90be"
      },
      "source": [
        "l1 = [x**3 for x in range(0,5)]\n",
        "\n",
        "print(l1)"
      ],
      "execution_count": null,
      "outputs": [
        {
          "output_type": "stream",
          "text": [
            "[0, 1, 8, 27, 64]\n"
          ],
          "name": "stdout"
        }
      ]
    },
    {
      "cell_type": "markdown",
      "metadata": {
        "id": "9ESCD5pkUA9g"
      },
      "source": [
        "### `while` loops:"
      ]
    },
    {
      "cell_type": "code",
      "metadata": {
        "id": "ckE8LnSuUA9g",
        "colab": {
          "base_uri": "https://localhost:8080/"
        },
        "outputId": "2fd9fc11-fce6-4ccc-f785-5e6634138411"
      },
      "source": [
        "i = 0\n",
        "\n",
        "while i < 5:\n",
        "    print(i)\n",
        "    \n",
        "    i = i + 1\n",
        "    \n",
        "print(\"done\")"
      ],
      "execution_count": null,
      "outputs": [
        {
          "output_type": "stream",
          "text": [
            "0\n",
            "1\n",
            "2\n",
            "3\n",
            "4\n",
            "done\n"
          ],
          "name": "stdout"
        }
      ]
    },
    {
      "cell_type": "markdown",
      "metadata": {
        "id": "CuzyyY-NUA9g"
      },
      "source": [
        "Note that the `print(\"done\")` statement is not part of the `while` loop body because of the difference in indentation."
      ]
    },
    {
      "cell_type": "markdown",
      "metadata": {
        "id": "6nv24oNJUA9g"
      },
      "source": [
        "---\n",
        "### Searching for an object belonging to a collection is faster for sets and dicts than lists"
      ]
    },
    {
      "cell_type": "code",
      "metadata": {
        "id": "eh5phrZHUA9g",
        "colab": {
          "base_uri": "https://localhost:8080/"
        },
        "outputId": "b6ec28f7-35fe-4ef7-b19a-fdce2f7fd58d"
      },
      "source": [
        "odd = [i**3 for i in range(1,100) if(i%2!=0)]\r\n",
        "print (odd)"
      ],
      "execution_count": null,
      "outputs": [
        {
          "output_type": "stream",
          "text": [
            "[1, 27, 125, 343, 729, 1331, 2197, 3375, 4913, 6859, 9261, 12167, 15625, 19683, 24389, 29791, 35937, 42875, 50653, 59319, 68921, 79507, 91125, 103823, 117649, 132651, 148877, 166375, 185193, 205379, 226981, 250047, 274625, 300763, 328509, 357911, 389017, 421875, 456533, 493039, 531441, 571787, 614125, 658503, 704969, 753571, 804357, 857375, 912673, 970299]\n"
          ],
          "name": "stdout"
        }
      ]
    },
    {
      "cell_type": "code",
      "metadata": {
        "id": "_cBw-do4UA9g"
      },
      "source": [
        "set_1 = {1, 2, 3, 1, 2, 5, 6, 7}; set_1"
      ],
      "execution_count": null,
      "outputs": []
    },
    {
      "cell_type": "code",
      "metadata": {
        "id": "69XB9zG7UA9g"
      },
      "source": [
        "%%timeit \n",
        "5 in set_1"
      ],
      "execution_count": null,
      "outputs": []
    },
    {
      "cell_type": "code",
      "metadata": {
        "id": "i7M626HXUA9g"
      },
      "source": [
        "list_1 = [1,2,3,4,510,20,5,30,4,5,3,20]"
      ],
      "execution_count": null,
      "outputs": []
    },
    {
      "cell_type": "code",
      "metadata": {
        "id": "gqNgh45oUA9g"
      },
      "source": [
        "%%timeit\n",
        "5 in list_1"
      ],
      "execution_count": null,
      "outputs": []
    },
    {
      "cell_type": "code",
      "metadata": {
        "id": "c85c5aMJUA9h"
      },
      "source": [
        "dict_1 = {k:v for k, v in zip(range(1, 8), list('abcdefg'))}\n",
        "dict_1"
      ],
      "execution_count": null,
      "outputs": []
    },
    {
      "cell_type": "code",
      "metadata": {
        "id": "R8JXSdIfUA9h"
      },
      "source": [
        "%%timeit\n",
        "5 in dict_1"
      ],
      "execution_count": null,
      "outputs": []
    },
    {
      "cell_type": "code",
      "metadata": {
        "id": "U-hKFshDUA9h"
      },
      "source": [
        "list_1 = range(10000)\n",
        "set_1 = set(list_1)"
      ],
      "execution_count": null,
      "outputs": []
    },
    {
      "cell_type": "code",
      "metadata": {
        "id": "b91sRNfcUA9h"
      },
      "source": [
        "%timeit 1123 in list_1"
      ],
      "execution_count": null,
      "outputs": []
    },
    {
      "cell_type": "code",
      "metadata": {
        "id": "X02bAfVKUA9h"
      },
      "source": [
        "%timeit 1123 in set_1"
      ],
      "execution_count": null,
      "outputs": []
    },
    {
      "cell_type": "code",
      "metadata": {
        "id": "5KBoTonUUA9h"
      },
      "source": [
        ""
      ],
      "execution_count": null,
      "outputs": []
    },
    {
      "cell_type": "markdown",
      "metadata": {
        "id": "ABB9E6mZUA9h"
      },
      "source": [
        "## Functions"
      ]
    },
    {
      "cell_type": "markdown",
      "metadata": {
        "id": "-Lla04J0GopX"
      },
      "source": [
        ""
      ]
    },
    {
      "cell_type": "markdown",
      "metadata": {
        "id": "scjO4aMfUA9h"
      },
      "source": [
        "A function in Python is defined using the keyword `def`, followed by a function name, a signature within parentheses `()`, and a colon `:`. The following code, with one additional level of indentation, is the function body.\n",
        "\n",
        "Every function does 3 things:\n",
        "1. Take an argument\n",
        "2. Flow it through the body of the function\n",
        "3. Return an object\n",
        "\n",
        "Syntax\n",
        "\n",
        "Function Definition:\n",
        "\n",
        "```\n",
        "def func-name(parameters):\n",
        "    body-function\n",
        "    return something\n",
        "```\n",
        "\n",
        "Function Call:\n",
        "\n",
        "\n",
        "`func-name(arguments)`"
      ]
    },
    {
      "cell_type": "code",
      "metadata": {
        "id": "buH2pRw6UA9i"
      },
      "source": [
        "def udf1(a):\n",
        "    v=a**2+2*a+10\n",
        "    return v"
      ],
      "execution_count": null,
      "outputs": []
    },
    {
      "cell_type": "code",
      "metadata": {
        "id": "7vO433d7UA9i",
        "colab": {
          "base_uri": "https://localhost:8080/"
        },
        "outputId": "9ebb016e-ca1d-4b90-9260-76c64d7f6416"
      },
      "source": [
        "udf1(3)"
      ],
      "execution_count": null,
      "outputs": [
        {
          "output_type": "execute_result",
          "data": {
            "text/plain": [
              "25"
            ]
          },
          "metadata": {
            "tags": []
          },
          "execution_count": 83
        }
      ]
    },
    {
      "cell_type": "code",
      "metadata": {
        "id": "FFR9CZJnUA9i"
      },
      "source": [
        "def func0():   \n",
        "    print(\"test\")"
      ],
      "execution_count": null,
      "outputs": []
    },
    {
      "cell_type": "code",
      "metadata": {
        "id": "-CgxDXK0UA9i",
        "colab": {
          "base_uri": "https://localhost:8080/"
        },
        "outputId": "93758033-9cac-4342-fd83-bea07c7f92e0"
      },
      "source": [
        "func0()"
      ],
      "execution_count": null,
      "outputs": [
        {
          "output_type": "stream",
          "text": [
            "test\n"
          ],
          "name": "stdout"
        }
      ]
    },
    {
      "cell_type": "markdown",
      "metadata": {
        "id": "hIR5GpH8UA9i"
      },
      "source": [
        "Optionally, but highly recommended, we can define a so called \"docstring\", which is a description of the functions purpose and behaivor. The docstring should follow directly after the function definition, before the code in the function body."
      ]
    },
    {
      "cell_type": "code",
      "metadata": {
        "id": "YSctF4PyUA9i"
      },
      "source": [
        "def func1(s):\n",
        "    \"\"\"\n",
        "    Print a string 's' and tell how many characters it has    \n",
        "    \"\"\"\n",
        "    # hello\n",
        "    print(s + \" has \" + str(len(s)) + \" characters\")"
      ],
      "execution_count": null,
      "outputs": []
    },
    {
      "cell_type": "code",
      "metadata": {
        "id": "jwboooi7UA9i",
        "colab": {
          "base_uri": "https://localhost:8080/"
        },
        "outputId": "28ec2efc-f640-4025-c800-be23c7415456"
      },
      "source": [
        "help(func1)"
      ],
      "execution_count": null,
      "outputs": [
        {
          "output_type": "stream",
          "text": [
            "Help on function func1 in module __main__:\n",
            "\n",
            "func1(s)\n",
            "    Print a string 's' and tell how many characters it has\n",
            "\n"
          ],
          "name": "stdout"
        }
      ]
    },
    {
      "cell_type": "code",
      "metadata": {
        "id": "-eQlPHbbUA9j",
        "colab": {
          "base_uri": "https://localhost:8080/"
        },
        "outputId": "224d890d-46a0-4f28-868a-7590c1637a52"
      },
      "source": [
        "func1(\"test\")"
      ],
      "execution_count": null,
      "outputs": [
        {
          "output_type": "stream",
          "text": [
            "test has 4 characters\n"
          ],
          "name": "stdout"
        }
      ]
    },
    {
      "cell_type": "markdown",
      "metadata": {
        "id": "6FkJLT8XUA9j"
      },
      "source": [
        "Functions that returns a value use the `return` keyword:"
      ]
    },
    {
      "cell_type": "code",
      "metadata": {
        "id": "-1ruoS3WUA9j"
      },
      "source": [
        "def square(x):\n",
        "    \"\"\"\n",
        "    Return the cube of x.\n",
        "    \"\"\"\n",
        "    return x ** 3"
      ],
      "execution_count": null,
      "outputs": []
    },
    {
      "cell_type": "code",
      "metadata": {
        "id": "jmiL5BKlUA9j",
        "colab": {
          "base_uri": "https://localhost:8080/"
        },
        "outputId": "a2dc61fe-e5be-4ee6-d182-9e0b7af025d2"
      },
      "source": [
        "square(4)"
      ],
      "execution_count": null,
      "outputs": [
        {
          "output_type": "execute_result",
          "data": {
            "text/plain": [
              "64"
            ]
          },
          "metadata": {
            "tags": []
          },
          "execution_count": 94
        }
      ]
    },
    {
      "cell_type": "markdown",
      "metadata": {
        "id": "dbM3UId-UA9j"
      },
      "source": [
        "We can return multiple values from a function using tuples (see above):"
      ]
    },
    {
      "cell_type": "code",
      "metadata": {
        "id": "ksHFpfDvUA9j"
      },
      "source": [
        "def powers(x):\n",
        "    \"\"\"\n",
        "    Return a few powers of x.\n",
        "    \"\"\"\n",
        "    return x ** 2, x ** 3, x ** 4"
      ],
      "execution_count": null,
      "outputs": []
    },
    {
      "cell_type": "code",
      "metadata": {
        "id": "mw5mpUD6UA9j",
        "colab": {
          "base_uri": "https://localhost:8080/"
        },
        "outputId": "f5e66a7c-a7d4-45a9-ae58-100b0f117ce8"
      },
      "source": [
        "powers(3)"
      ],
      "execution_count": null,
      "outputs": [
        {
          "output_type": "execute_result",
          "data": {
            "text/plain": [
              "(9, 27, 81)"
            ]
          },
          "metadata": {
            "tags": []
          },
          "execution_count": 96
        }
      ]
    },
    {
      "cell_type": "code",
      "metadata": {
        "id": "wZ9okm4PUA9k",
        "colab": {
          "base_uri": "https://localhost:8080/"
        },
        "outputId": "cd166972-4748-40b5-f28b-40ecfaf3306e"
      },
      "source": [
        "x2, x3, x4 = powers(3)\n",
        "\n",
        "print(x3)"
      ],
      "execution_count": null,
      "outputs": [
        {
          "output_type": "stream",
          "text": [
            "27\n"
          ],
          "name": "stdout"
        }
      ]
    },
    {
      "cell_type": "markdown",
      "metadata": {
        "id": "bHadI7S7UA9k"
      },
      "source": [
        "### Default argument and keyword arguments"
      ]
    },
    {
      "cell_type": "markdown",
      "metadata": {
        "id": "M0BpOY8-UA9k"
      },
      "source": [
        "In a definition of a function, we can give default values to the arguments the function takes:"
      ]
    },
    {
      "cell_type": "code",
      "metadata": {
        "id": "3w_ctpWkUA9k"
      },
      "source": [
        "def myfunc(x, p=2, debug=False):\n",
        "    if debug:\n",
        "        print(\"evaluating myfunc for x = \" + str(x) + \" using exponent p = \" + str(p))\n",
        "    return x**p"
      ],
      "execution_count": null,
      "outputs": []
    },
    {
      "cell_type": "markdown",
      "metadata": {
        "id": "Bo-feRemUA9l"
      },
      "source": [
        "If we don't provide a value of the `debug` argument when calling the the function `myfunc` it defaults to the value provided in the function definition:"
      ]
    },
    {
      "cell_type": "code",
      "metadata": {
        "id": "FlkXnoM6UA9l"
      },
      "source": [
        "myfunc(5)"
      ],
      "execution_count": null,
      "outputs": []
    },
    {
      "cell_type": "code",
      "metadata": {
        "id": "uXQ0bqXUUA9l"
      },
      "source": [
        "myfunc(5, debug=True)"
      ],
      "execution_count": null,
      "outputs": []
    },
    {
      "cell_type": "markdown",
      "metadata": {
        "id": "xEmoZEt0UA9l"
      },
      "source": [
        "If we explicitly list the name of the arguments in the function calls, they do not need to come in the same order as in the function definition. This is called *keyword* arguments, and is often very useful in functions that takes a lot of optional arguments."
      ]
    },
    {
      "cell_type": "code",
      "metadata": {
        "id": "OkmVxmAVUA9l"
      },
      "source": [
        "myfunc(p=3, debug=True, x=7)"
      ],
      "execution_count": null,
      "outputs": []
    },
    {
      "cell_type": "markdown",
      "metadata": {
        "id": "BCj7STYnUA9m"
      },
      "source": [
        "#### Functions are Objects"
      ]
    },
    {
      "cell_type": "code",
      "metadata": {
        "id": "umcn0U1SUA9m"
      },
      "source": [
        "def add_one(num):\n",
        "    return num + 1\n",
        "\n",
        "print (add_one(99))\n",
        "\n",
        "\n",
        "def add_two(n):\n",
        "    return n+2\n",
        "\n",
        "print (add_two(998))\n"
      ],
      "execution_count": null,
      "outputs": []
    },
    {
      "cell_type": "code",
      "metadata": {
        "id": "tmuaCzD3UA9m"
      },
      "source": [
        "list_of_funcs = [add_one, add_two]\n",
        "\n",
        "print (list_of_funcs[0](49))\n",
        "print (list_of_funcs[1](48))"
      ],
      "execution_count": null,
      "outputs": []
    },
    {
      "cell_type": "markdown",
      "metadata": {
        "id": "3robg4EeUA9m"
      },
      "source": [
        "### Unnamed functions (lambda function)"
      ]
    },
    {
      "cell_type": "markdown",
      "metadata": {
        "id": "4SjvGXLrUA9n"
      },
      "source": [
        "In Python we can also create unnamed functions, using the `lambda` keyword:\n",
        "\n",
        "- do not have a name\n",
        "- are temporary in nature and intent\n",
        "- use & throw"
      ]
    },
    {
      "cell_type": "code",
      "metadata": {
        "id": "ckTcTxC-UA9n"
      },
      "source": [
        "def squarer(x):\n",
        "    \"\"\"\n",
        "    This function takes a number and returns its square\n",
        "    \"\"\"\n",
        "    return x**2"
      ],
      "execution_count": null,
      "outputs": []
    },
    {
      "cell_type": "code",
      "metadata": {
        "id": "ltidBZp6UA9n"
      },
      "source": [
        "squarer(10)"
      ],
      "execution_count": null,
      "outputs": []
    },
    {
      "cell_type": "code",
      "metadata": {
        "id": "o__7ELqPUA9n"
      },
      "source": [
        "squarer?"
      ],
      "execution_count": null,
      "outputs": []
    },
    {
      "cell_type": "code",
      "metadata": {
        "id": "5WrkQw8zUA9n"
      },
      "source": [
        "f1 = lambda x: x**2\n",
        "    \n",
        "# is equivalent to \n",
        "\n",
        "def f2(x):\n",
        "    return x**2"
      ],
      "execution_count": null,
      "outputs": []
    },
    {
      "cell_type": "code",
      "metadata": {
        "id": "3vR32sFaUA9n"
      },
      "source": [
        "f1(2), f2(2)"
      ],
      "execution_count": null,
      "outputs": []
    }
  ]
}