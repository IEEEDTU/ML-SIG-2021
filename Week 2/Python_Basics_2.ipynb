{
  "nbformat": 4,
  "nbformat_minor": 0,
  "metadata": {
    "anaconda-cloud": {},
    "kernelspec": {
      "display_name": "Python 3",
      "language": "python",
      "name": "python3"
    },
    "language_info": {
      "codemirror_mode": {
        "name": "ipython",
        "version": 3
      },
      "file_extension": ".py",
      "mimetype": "text/x-python",
      "name": "python",
      "nbconvert_exporter": "python",
      "pygments_lexer": "ipython3",
      "version": "3.7.4"
    },
    "colab": {
      "name": "Copy of Python Basics 2.ipynb",
      "provenance": [],
      "collapsed_sections": [
        "lVYmTTqUUA9b",
        "Z7bzTiAsUA9d",
        "X3hu_9_wUA9d",
        "dWES4gkaUA9e",
        "_xwjSL5bUA9f",
        "9ESCD5pkUA9g",
        "6nv24oNJUA9g",
        "ABB9E6mZUA9h",
        "bHadI7S7UA9k",
        "BCj7STYnUA9m",
        "3robg4EeUA9m",
        "Q1nxERMfUA9o",
        "CSNwN6dxUA9p",
        "NTCZoPKxUA9p",
        "IVQ1RJGXUA9q",
        "f1ScRUmQUA9r",
        "Gashjqe9UA9r",
        "e7URoj-NUA9s",
        "mIsyrTL2UA9s",
        "dGDE21t0UA9t"
      ],
      "toc_visible": true
    }
  },
  "cells": [
    {
      "cell_type": "markdown",
      "metadata": {
        "id": "eJR52Kv4UA8h"
      },
      "source": [
        "# Introduction to Python - Programming"
      ]
    },
    {
      "cell_type": "markdown",
      "metadata": {
        "id": "0ABdYAkPUA9N"
      },
      "source": [
        "### List"
      ]
    },
    {
      "cell_type": "markdown",
      "metadata": {
        "id": "ZpAq5S2DUA9N"
      },
      "source": [
        "Lists are very similar to strings, except that each element can be of any type.\n",
        "\n",
        "The syntax for creating lists in Python is `[...]`:\n",
        "\n",
        "\"A list is an **ordered**, indexable collection of data.\"\n",
        "\n",
        "- created using the square brackets `[]`\n",
        "- created using functions like `range, xrange, arange, linspace, list`\n",
        "- Lists methods\n",
        "    - `.append, .remove, .pop, .reverse, .sort`\n",
        "- Subsetting lists using integer indexes (and slices)\n",
        "- Lists are **mutable** ie, they can be modified once declared.\n",
        "- Finding things inside lists - using `in` and `.index()`\n",
        "- Lists as iterators"
      ]
    },
    {
      "cell_type": "code",
      "metadata": {
        "id": "dCWJeiSuUA9N",
        "colab": {
          "base_uri": "https://localhost:8080/"
        },
        "outputId": "f5035962-743a-4b33-db3f-4b1247e5ee37"
      },
      "source": [
        "l = [1,2,3,4]\n",
        "\n",
        "print(type(l))\n",
        "print(l)"
      ],
      "execution_count": null,
      "outputs": [
        {
          "output_type": "stream",
          "text": [
            "<class 'list'>\n",
            "[1, 2, 3, 4]\n"
          ],
          "name": "stdout"
        }
      ]
    },
    {
      "cell_type": "markdown",
      "metadata": {
        "id": "LDJ9x8gqUA9O"
      },
      "source": [
        "We can use the same slicing techniques to manipulate lists as we could use on strings:"
      ]
    },
    {
      "cell_type": "code",
      "metadata": {
        "id": "7clEYAjpUA9O",
        "colab": {
          "base_uri": "https://localhost:8080/"
        },
        "outputId": "90319ce5-2adf-4859-8d6f-c07e7233297d"
      },
      "source": [
        "print(l)\n",
        "\n",
        "print(l[1:3])\n",
        "\n",
        "print(l[::2])"
      ],
      "execution_count": null,
      "outputs": [
        {
          "output_type": "stream",
          "text": [
            "[1, 2, 3, 4]\n",
            "[2, 3]\n",
            "[1, 3]\n"
          ],
          "name": "stdout"
        }
      ]
    },
    {
      "cell_type": "code",
      "metadata": {
        "id": "mB3gj28PUA9O",
        "colab": {
          "base_uri": "https://localhost:8080/"
        },
        "outputId": "b268c19f-12c7-41f5-ca46-c03763a48503"
      },
      "source": [
        "l[3]"
      ],
      "execution_count": null,
      "outputs": [
        {
          "output_type": "execute_result",
          "data": {
            "text/plain": [
              "4"
            ]
          },
          "metadata": {
            "tags": []
          },
          "execution_count": 58
        }
      ]
    },
    {
      "cell_type": "markdown",
      "metadata": {
        "id": "IEIdtRvyUA9O"
      },
      "source": [
        "Elements in a list do not all have to be of the same type:"
      ]
    },
    {
      "cell_type": "code",
      "metadata": {
        "id": "Uz8u5lXmUA9O",
        "colab": {
          "base_uri": "https://localhost:8080/"
        },
        "outputId": "45426c17-6cd3-4c34-a13e-57713c54c748"
      },
      "source": [
        "l = [1, 'a', 1.0, 1-1j]\n",
        "\n",
        "print(l)"
      ],
      "execution_count": null,
      "outputs": [
        {
          "output_type": "stream",
          "text": [
            "[1, 'a', 1.0, (1-1j)]\n"
          ],
          "name": "stdout"
        }
      ]
    },
    {
      "cell_type": "markdown",
      "metadata": {
        "id": "DmnI8ZeZUA9O"
      },
      "source": [
        "Python lists can be inhomogeneous and arbitrarily nested:"
      ]
    },
    {
      "cell_type": "code",
      "metadata": {
        "id": "cb0Rqxy4UA9O",
        "colab": {
          "base_uri": "https://localhost:8080/"
        },
        "outputId": "09a46a78-1545-446f-8130-5dbbcc781272"
      },
      "source": [
        "nested_list = [1, [2, [3, [4, [5]]]]]\n",
        "\n",
        "nested_list"
      ],
      "execution_count": null,
      "outputs": [
        {
          "output_type": "execute_result",
          "data": {
            "text/plain": [
              "[1, [2, [3, [4, [5]]]]]"
            ]
          },
          "metadata": {
            "tags": []
          },
          "execution_count": 61
        }
      ]
    },
    {
      "cell_type": "code",
      "metadata": {
        "colab": {
          "base_uri": "https://localhost:8080/"
        },
        "id": "cVUz7ZdlM6dE",
        "outputId": "38f85ce4-006a-4066-ba7d-478959d9a26c"
      },
      "source": [
        "print(nested_list)"
      ],
      "execution_count": null,
      "outputs": [
        {
          "output_type": "stream",
          "text": [
            "[1, [2, [3, [4, [5]]]]]\n"
          ],
          "name": "stdout"
        }
      ]
    },
    {
      "cell_type": "code",
      "metadata": {
        "id": "P4AeA9DtUA9P",
        "colab": {
          "base_uri": "https://localhost:8080/"
        },
        "outputId": "90f2666f-7d3b-47a2-ae3e-9e204269bcf1"
      },
      "source": [
        "nested_list[1][1][0]"
      ],
      "execution_count": null,
      "outputs": [
        {
          "output_type": "execute_result",
          "data": {
            "text/plain": [
              "3"
            ]
          },
          "metadata": {
            "tags": []
          },
          "execution_count": 6
        }
      ]
    },
    {
      "cell_type": "markdown",
      "metadata": {
        "id": "_vgp3_BpUA9P"
      },
      "source": [
        "Lists play a very important role in Python. For example they are used in loops and other flow control structures (discussed below). There are a number of convenient functions for generating lists of various types, for example the `range` function:"
      ]
    },
    {
      "cell_type": "code",
      "metadata": {
        "id": "Xuf9EcmSUA9P",
        "colab": {
          "base_uri": "https://localhost:8080/"
        },
        "outputId": "f48e4dc4-d325-49ac-c4ab-5ec114433660"
      },
      "source": [
        "start = 10\n",
        "stop = 30\n",
        "step = 2\n",
        "\n",
        "k=range(start, stop, step)\n",
        "type(k)"
      ],
      "execution_count": null,
      "outputs": [
        {
          "output_type": "execute_result",
          "data": {
            "text/plain": [
              "range"
            ]
          },
          "metadata": {
            "tags": []
          },
          "execution_count": 63
        }
      ]
    },
    {
      "cell_type": "code",
      "metadata": {
        "id": "__F_pM_tUA9P",
        "colab": {
          "base_uri": "https://localhost:8080/"
        },
        "outputId": "65c7a04d-3198-4783-9c76-939b6cbb04eb"
      },
      "source": [
        "# in python3 range generates an interator, which can be converted to a list using 'list(...)'.\n",
        "# It has no effect in python 2\n",
        "list(range(start, stop, step))"
      ],
      "execution_count": null,
      "outputs": [
        {
          "output_type": "execute_result",
          "data": {
            "text/plain": [
              "[10, 12, 14, 16, 18, 20, 22, 24, 26, 28]"
            ]
          },
          "metadata": {
            "tags": []
          },
          "execution_count": 8
        }
      ]
    },
    {
      "cell_type": "code",
      "metadata": {
        "id": "vACyGgXoUA9P",
        "colab": {
          "base_uri": "https://localhost:8080/"
        },
        "outputId": "58070500-71cd-4b71-8e5e-57875b7909ec"
      },
      "source": [
        "list(range(10, -10, -1))"
      ],
      "execution_count": null,
      "outputs": [
        {
          "output_type": "execute_result",
          "data": {
            "text/plain": [
              "[10, 9, 8, 7, 6, 5, 4, 3, 2, 1, 0, -1, -2, -3, -4, -5, -6, -7, -8, -9]"
            ]
          },
          "metadata": {
            "tags": []
          },
          "execution_count": 65
        }
      ]
    },
    {
      "cell_type": "code",
      "metadata": {
        "id": "-A7IBmbSUA9P",
        "colab": {
          "base_uri": "https://localhost:8080/",
          "height": 35
        },
        "outputId": "7c0356bd-29d5-4856-aad2-aaa9c787acf7"
      },
      "source": [
        "s=\"hello\"\r\n",
        "s"
      ],
      "execution_count": null,
      "outputs": [
        {
          "output_type": "execute_result",
          "data": {
            "application/vnd.google.colaboratory.intrinsic+json": {
              "type": "string"
            },
            "text/plain": [
              "'hello'"
            ]
          },
          "metadata": {
            "tags": []
          },
          "execution_count": 10
        }
      ]
    },
    {
      "cell_type": "code",
      "metadata": {
        "id": "CzJLN3MBUA9Q",
        "colab": {
          "base_uri": "https://localhost:8080/"
        },
        "outputId": "6e578420-5ee3-46f1-9b42-c58d9112f834"
      },
      "source": [
        "# convert a string to a list by type casting:\n",
        "s2 = list(s)\n",
        "\n",
        "s2"
      ],
      "execution_count": null,
      "outputs": [
        {
          "output_type": "execute_result",
          "data": {
            "text/plain": [
              "['h', 'e', 'l', 'l', 'o']"
            ]
          },
          "metadata": {
            "tags": []
          },
          "execution_count": 11
        }
      ]
    },
    {
      "cell_type": "code",
      "metadata": {
        "id": "1fw8BOKTUA9Q",
        "colab": {
          "base_uri": "https://localhost:8080/"
        },
        "outputId": "bbf4d9c4-cc31-41a9-bfec-7869cc72bdee"
      },
      "source": [
        "# sorting lists\n",
        "s2.sort()\n",
        "\n",
        "print(s2)"
      ],
      "execution_count": null,
      "outputs": [
        {
          "output_type": "stream",
          "text": [
            "['e', 'h', 'l', 'l', 'o']\n"
          ],
          "name": "stdout"
        }
      ]
    },
    {
      "cell_type": "markdown",
      "metadata": {
        "id": "80pvTJosUA9Q"
      },
      "source": [
        "#### Adding, inserting, modifying, and removing elements from lists"
      ]
    },
    {
      "cell_type": "code",
      "metadata": {
        "id": "ab4rIgCeUA9Q",
        "colab": {
          "base_uri": "https://localhost:8080/"
        },
        "outputId": "ba86be58-bf40-4372-ae4a-75e41b67078f"
      },
      "source": [
        "# create a new empty list\n",
        "l = []\n",
        "\n",
        "# add an elements using `append`\n",
        "l.append(\"A\")\n",
        "l.append(\"d\")\n",
        "l.append(\"d\")\n",
        "\n",
        "print(l)"
      ],
      "execution_count": null,
      "outputs": [
        {
          "output_type": "stream",
          "text": [
            "['A', 'd', 'd']\n"
          ],
          "name": "stdout"
        }
      ]
    },
    {
      "cell_type": "markdown",
      "metadata": {
        "id": "fAI80ilbUA9Q"
      },
      "source": [
        "We can modify lists by assigning new values to elements in the list. In technical jargon, lists are *mutable*."
      ]
    },
    {
      "cell_type": "code",
      "metadata": {
        "id": "hudVuWzUUA9Q",
        "colab": {
          "base_uri": "https://localhost:8080/"
        },
        "outputId": "d5dd2998-9859-4f35-bfb3-47bc79cbd0b4"
      },
      "source": [
        "l[1] = \"p\"\n",
        "l[2] = \"p\"\n",
        "\n",
        "print(l)"
      ],
      "execution_count": null,
      "outputs": [
        {
          "output_type": "stream",
          "text": [
            "['A', 'p', 'p']\n"
          ],
          "name": "stdout"
        }
      ]
    },
    {
      "cell_type": "code",
      "metadata": {
        "id": "pzHK8WgKUA9Q",
        "colab": {
          "base_uri": "https://localhost:8080/"
        },
        "outputId": "f5ebd95c-5455-4026-9c31-468fe03ac9f9"
      },
      "source": [
        "l[1:3] = [\"d\"]\n",
        "\n",
        "print(l)\n",
        "# to be discussed"
      ],
      "execution_count": null,
      "outputs": [
        {
          "output_type": "stream",
          "text": [
            "['A', 'd']\n"
          ],
          "name": "stdout"
        }
      ]
    },
    {
      "cell_type": "markdown",
      "metadata": {
        "id": "qNzuhoqqUA9R"
      },
      "source": [
        "Insert an element at a specific index using `insert`"
      ]
    },
    {
      "cell_type": "code",
      "metadata": {
        "id": "qdCxVeM8UA9R",
        "colab": {
          "base_uri": "https://localhost:8080/"
        },
        "outputId": "394f0676-4120-416d-e19d-ef6d95dc1a9b"
      },
      "source": [
        "l.insert(0, \"i\")\n",
        "l.insert(1, \"n\")\n",
        "l.insert(2, \"s\")\n",
        "l.insert(3, \"e\")\n",
        "l.insert(4, \"r\")\n",
        "l.insert(5, \"t\")\n",
        "l.insert(9, \"t\")\n",
        "\n",
        "print(l)"
      ],
      "execution_count": null,
      "outputs": [
        {
          "output_type": "stream",
          "text": [
            "['i', 'n', 's', 'e', 'r', 't', 'A', 'd', 'd', 't']\n"
          ],
          "name": "stdout"
        }
      ]
    },
    {
      "cell_type": "markdown",
      "metadata": {
        "id": "23sU9TFGUA9R"
      },
      "source": [
        "Remove first element with specific value using 'remove'"
      ]
    },
    {
      "cell_type": "code",
      "metadata": {
        "id": "_l0rMsW7UA9R",
        "colab": {
          "base_uri": "https://localhost:8080/"
        },
        "outputId": "01d1392c-2533-46c3-94cf-cca65cae43c0"
      },
      "source": [
        "l.remove(\"A\")\n",
        "\n",
        "print(l)"
      ],
      "execution_count": null,
      "outputs": [
        {
          "output_type": "stream",
          "text": [
            "['i', 'n', 's', 'e', 'r', 't', 'd', 'd']\n"
          ],
          "name": "stdout"
        }
      ]
    },
    {
      "cell_type": "markdown",
      "metadata": {
        "id": "3eCXgR29UA9R"
      },
      "source": [
        "Remove an element at a specific location using `del`:"
      ]
    },
    {
      "cell_type": "code",
      "metadata": {
        "id": "zKdvsKrkUA9S",
        "colab": {
          "base_uri": "https://localhost:8080/"
        },
        "outputId": "59eb81bd-1e38-4cf5-a54f-cc464ed6a9b6"
      },
      "source": [
        "del l[7]\n",
        "del l[6]\n",
        "\n",
        "print(l)"
      ],
      "execution_count": null,
      "outputs": [
        {
          "output_type": "stream",
          "text": [
            "['i', 'n', 's', 'e', 'r', 't']\n"
          ],
          "name": "stdout"
        }
      ]
    },
    {
      "cell_type": "markdown",
      "metadata": {
        "id": "GDEfa7EzUA9S"
      },
      "source": [
        "See `help(list)` for more details, or read the online documentation "
      ]
    },
    {
      "cell_type": "markdown",
      "metadata": {
        "id": "MIN280NkUA9S"
      },
      "source": [
        "### Tuples"
      ]
    },
    {
      "cell_type": "markdown",
      "metadata": {
        "id": "PJGWYseZUA9S"
      },
      "source": [
        "Tuples are like lists, except that they cannot be modified once created, that is they are *immutable*. \n",
        "\n",
        "In Python, tuples are created using the syntax `(..., ..., ...)`, or even `..., ...`:"
      ]
    },
    {
      "cell_type": "code",
      "metadata": {
        "id": "widOICTCUA9S",
        "colab": {
          "base_uri": "https://localhost:8080/"
        },
        "outputId": "74635f5c-cccd-40e2-fe95-23df90cc0343"
      },
      "source": [
        "point = (10, 20)\n",
        "\n",
        "print(point, type(point))"
      ],
      "execution_count": null,
      "outputs": [
        {
          "output_type": "stream",
          "text": [
            "(10, 20) <class 'tuple'>\n"
          ],
          "name": "stdout"
        }
      ]
    },
    {
      "cell_type": "code",
      "metadata": {
        "id": "07PChpoQUA9S",
        "colab": {
          "base_uri": "https://localhost:8080/"
        },
        "outputId": "ce41da96-5cc7-42c0-81e6-bac84d9db2e4"
      },
      "source": [
        "point = 10, 20, 30\n",
        "\n",
        "print(point, type(point))"
      ],
      "execution_count": null,
      "outputs": [
        {
          "output_type": "stream",
          "text": [
            "(10, 20, 30) <class 'tuple'>\n"
          ],
          "name": "stdout"
        }
      ]
    },
    {
      "cell_type": "markdown",
      "metadata": {
        "id": "-XoPncRCUA9T"
      },
      "source": [
        "We can unpack a tuple by assigning it to a comma-separated list of variables:"
      ]
    },
    {
      "cell_type": "code",
      "metadata": {
        "id": "RKgPWpgXUA9T",
        "colab": {
          "base_uri": "https://localhost:8080/"
        },
        "outputId": "c5837e20-ccac-4594-e8c5-07ff6c8cdaba"
      },
      "source": [
        "x, y, z = point\n",
        "\n",
        "print(\"x =\", x)\n",
        "print(\"y =\", y)\n",
        "print(\"z =\", z)\n",
        "print(point)"
      ],
      "execution_count": null,
      "outputs": [
        {
          "output_type": "stream",
          "text": [
            "x = 10\n",
            "y = 20\n",
            "z = 30\n",
            "(10, 20, 30)\n"
          ],
          "name": "stdout"
        }
      ]
    },
    {
      "cell_type": "markdown",
      "metadata": {
        "id": "pTm9geMGUA9T"
      },
      "source": [
        "If we try to assign a new value to an element in a tuple we get an error:"
      ]
    },
    {
      "cell_type": "code",
      "metadata": {
        "id": "ur7an7BlUA9T",
        "colab": {
          "base_uri": "https://localhost:8080/",
          "height": 162
        },
        "outputId": "ba596a2a-2d48-4666-b33b-59b10c7d1e56"
      },
      "source": [
        "point[0] = 20"
      ],
      "execution_count": null,
      "outputs": [
        {
          "output_type": "error",
          "ename": "TypeError",
          "evalue": "ignored",
          "traceback": [
            "\u001b[0;31m---------------------------------------------------------------------------\u001b[0m",
            "\u001b[0;31mTypeError\u001b[0m                                 Traceback (most recent call last)",
            "\u001b[0;32m<ipython-input-22-9734b1daa940>\u001b[0m in \u001b[0;36m<module>\u001b[0;34m()\u001b[0m\n\u001b[0;32m----> 1\u001b[0;31m \u001b[0mpoint\u001b[0m\u001b[0;34m[\u001b[0m\u001b[0;36m0\u001b[0m\u001b[0;34m]\u001b[0m \u001b[0;34m=\u001b[0m \u001b[0;36m20\u001b[0m\u001b[0;34m\u001b[0m\u001b[0;34m\u001b[0m\u001b[0m\n\u001b[0m",
            "\u001b[0;31mTypeError\u001b[0m: 'tuple' object does not support item assignment"
          ]
        }
      ]
    },
    {
      "cell_type": "markdown",
      "metadata": {
        "id": "iy2FKYUSUA9T"
      },
      "source": [
        "### Dictionaries"
      ]
    },
    {
      "cell_type": "markdown",
      "metadata": {
        "id": "4a7TXrwjUA9T"
      },
      "source": [
        "Dictionaries are also like lists, except that each element is a key-value pair. The syntax for dictionaries is `{key1 : value1, ...}`:\n",
        "\n",
        "---\n",
        "- **unordered**\n",
        "- declared using the curly braces `{ }`\n",
        "- Data exists in the form of `key-value` pairs"
      ]
    },
    {
      "cell_type": "code",
      "metadata": {
        "id": "DlUN8LzMUA9T"
      },
      "source": [
        "details = {\n",
        "\"university\" : \"DTU\",\n",
        "\"program\" : \"Machine Learning with Python\",\n",
        " \"module\" : 1,\n",
        "\"tags\" : [\"#machine\", \"#learning\", \"#datascience\", \"#python\", \"#analysis\"]\n",
        "}"
      ],
      "execution_count": null,
      "outputs": []
    },
    {
      "cell_type": "code",
      "metadata": {
        "scrolled": true,
        "id": "2E9COjicUA9U",
        "colab": {
          "base_uri": "https://localhost:8080/"
        },
        "outputId": "32e464a8-bc35-4b6b-f473-90b0f047cdc6"
      },
      "source": [
        "details"
      ],
      "execution_count": null,
      "outputs": [
        {
          "output_type": "execute_result",
          "data": {
            "text/plain": [
              "{'module': 1,\n",
              " 'program': 'Machine Learning with Python',\n",
              " 'tags': ['#machine', '#learning', '#datascience', '#python', '#analysis'],\n",
              " 'university': 'DTU'}"
            ]
          },
          "metadata": {
            "tags": []
          },
          "execution_count": 24
        }
      ]
    },
    {
      "cell_type": "code",
      "metadata": {
        "id": "BNz1FXfeUA9V",
        "colab": {
          "base_uri": "https://localhost:8080/"
        },
        "outputId": "c04f280a-8257-467c-9b9d-f08f02b9d450"
      },
      "source": [
        "details.keys()"
      ],
      "execution_count": null,
      "outputs": [
        {
          "output_type": "execute_result",
          "data": {
            "text/plain": [
              "dict_keys(['university', 'program', 'module', 'tags'])"
            ]
          },
          "metadata": {
            "tags": []
          },
          "execution_count": 25
        }
      ]
    },
    {
      "cell_type": "code",
      "metadata": {
        "id": "TbmczAd3UA9V",
        "colab": {
          "base_uri": "https://localhost:8080/"
        },
        "outputId": "5a2a8273-f046-4e04-c0eb-cd809058a752"
      },
      "source": [
        "details.values()"
      ],
      "execution_count": null,
      "outputs": [
        {
          "output_type": "execute_result",
          "data": {
            "text/plain": [
              "dict_values(['DTU', 'Machine Learning with Python', 1, ['#machine', '#learning', '#datascience', '#python', '#analysis']])"
            ]
          },
          "metadata": {
            "tags": []
          },
          "execution_count": 26
        }
      ]
    },
    {
      "cell_type": "code",
      "metadata": {
        "id": "hLFA1iCkUA9V",
        "colab": {
          "base_uri": "https://localhost:8080/"
        },
        "outputId": "2c5aaec9-0e3d-4fa8-d718-25d88dab1a03"
      },
      "source": [
        "details.items()"
      ],
      "execution_count": null,
      "outputs": [
        {
          "output_type": "execute_result",
          "data": {
            "text/plain": [
              "dict_items([('university', 'DTU'), ('program', 'Machine Learning with Python'), ('module', 1), ('tags', ['#machine', '#learning', '#datascience', '#python', '#analysis'])])"
            ]
          },
          "metadata": {
            "tags": []
          },
          "execution_count": 27
        }
      ]
    },
    {
      "cell_type": "code",
      "metadata": {
        "id": "l6x6gT5kUA9V"
      },
      "source": [
        "# Adding k-v pairs to an empty dictionary\n",
        "details['trainer'] = ['IIT', \"IIM\", \"JNU\",\"Industry\"]\n",
        "details['coverage']= ['BA','Stat','ML','Python']"
      ],
      "execution_count": null,
      "outputs": []
    },
    {
      "cell_type": "code",
      "metadata": {
        "id": "ELqRggaHUA9V",
        "colab": {
          "base_uri": "https://localhost:8080/"
        },
        "outputId": "a5b50e83-e21c-4b44-8241-2e4f9f265ea1"
      },
      "source": [
        "details"
      ],
      "execution_count": null,
      "outputs": [
        {
          "output_type": "execute_result",
          "data": {
            "text/plain": [
              "{'coverage': ['BA', 'Stat', 'ML', 'Python'],\n",
              " 'module': 1,\n",
              " 'program': 'Machine Learning with Python',\n",
              " 'tags': ['#machine', '#learning', '#datascience', '#python', '#analysis'],\n",
              " 'trainer': ['IIT', 'IIM', 'JNU', 'Industry'],\n",
              " 'university': 'DTU'}"
            ]
          },
          "metadata": {
            "tags": []
          },
          "execution_count": 29
        }
      ]
    },
    {
      "cell_type": "code",
      "metadata": {
        "id": "2cUuFbn6UA9W"
      },
      "source": [
        "del details['tags']"
      ],
      "execution_count": null,
      "outputs": []
    },
    {
      "cell_type": "code",
      "metadata": {
        "id": "r1AMCkiVUA9W",
        "colab": {
          "base_uri": "https://localhost:8080/"
        },
        "outputId": "3ff9a96e-83dd-4801-ccb3-f5f3b0c5a3e5"
      },
      "source": [
        "details.keys()"
      ],
      "execution_count": null,
      "outputs": [
        {
          "output_type": "execute_result",
          "data": {
            "text/plain": [
              "dict_keys(['university', 'program', 'module', 'trainer', 'coverage'])"
            ]
          },
          "metadata": {
            "tags": []
          },
          "execution_count": 31
        }
      ]
    },
    {
      "cell_type": "code",
      "metadata": {
        "colab": {
          "base_uri": "https://localhost:8080/"
        },
        "id": "4ISZddPdUqhR",
        "outputId": "c8eef6cf-416c-44a9-a0a5-d02e311bb19d"
      },
      "source": [
        "details.pop('coverge',2)"
      ],
      "execution_count": null,
      "outputs": [
        {
          "output_type": "execute_result",
          "data": {
            "text/plain": [
              "2"
            ]
          },
          "metadata": {
            "tags": []
          },
          "execution_count": 107
        }
      ]
    },
    {
      "cell_type": "code",
      "metadata": {
        "id": "ChfRXY3WUA9W",
        "colab": {
          "base_uri": "https://localhost:8080/"
        },
        "outputId": "7247cf5e-728a-4132-fba1-1318c6b86d10"
      },
      "source": [
        "details.pop('coverage')"
      ],
      "execution_count": null,
      "outputs": [
        {
          "output_type": "execute_result",
          "data": {
            "text/plain": [
              "['BA', 'Stat', 'ML', 'Python']"
            ]
          },
          "metadata": {
            "tags": []
          },
          "execution_count": 32
        }
      ]
    },
    {
      "cell_type": "code",
      "metadata": {
        "id": "sQB8_okyUA9W",
        "colab": {
          "base_uri": "https://localhost:8080/"
        },
        "outputId": "e0e27cf1-1b7e-4f13-a356-0c21e92f6436"
      },
      "source": [
        "details.keys()"
      ],
      "execution_count": null,
      "outputs": [
        {
          "output_type": "execute_result",
          "data": {
            "text/plain": [
              "dict_keys(['university', 'program', 'module', 'trainer'])"
            ]
          },
          "metadata": {
            "tags": []
          },
          "execution_count": 33
        }
      ]
    },
    {
      "cell_type": "code",
      "metadata": {
        "id": "OiionD1PUA9W"
      },
      "source": [
        "d={}"
      ],
      "execution_count": null,
      "outputs": []
    },
    {
      "cell_type": "code",
      "metadata": {
        "id": "075bcQXqUA9W",
        "colab": {
          "base_uri": "https://localhost:8080/"
        },
        "outputId": "67e7993e-def5-40cd-e53a-4a28cd88ad89"
      },
      "source": [
        "d"
      ],
      "execution_count": null,
      "outputs": [
        {
          "output_type": "execute_result",
          "data": {
            "text/plain": [
              "{}"
            ]
          },
          "metadata": {
            "tags": []
          },
          "execution_count": 35
        }
      ]
    },
    {
      "cell_type": "code",
      "metadata": {
        "id": "jX8ykH2yUA9X",
        "colab": {
          "base_uri": "https://localhost:8080/"
        },
        "outputId": "72302c04-a7fd-4c85-910a-897bd3af5716"
      },
      "source": [
        "type(d)"
      ],
      "execution_count": null,
      "outputs": [
        {
          "output_type": "execute_result",
          "data": {
            "text/plain": [
              "dict"
            ]
          },
          "metadata": {
            "tags": []
          },
          "execution_count": 36
        }
      ]
    },
    {
      "cell_type": "code",
      "metadata": {
        "id": "yXl-pDlVUA9X"
      },
      "source": [
        "d[\"Name\"]=\"Alabs\"; d[\"Location\"]=\"Ggn\""
      ],
      "execution_count": null,
      "outputs": []
    },
    {
      "cell_type": "code",
      "metadata": {
        "id": "spLuOH2QUA9X",
        "colab": {
          "base_uri": "https://localhost:8080/"
        },
        "outputId": "699bdffd-ead3-445e-84fa-db87c3800b5c"
      },
      "source": [
        "d"
      ],
      "execution_count": null,
      "outputs": [
        {
          "output_type": "execute_result",
          "data": {
            "text/plain": [
              "{'Location': 'Ggn', 'Name': 'Alabs'}"
            ]
          },
          "metadata": {
            "tags": []
          },
          "execution_count": 38
        }
      ]
    },
    {
      "cell_type": "code",
      "metadata": {
        "id": "l02Pqn9BUA9X",
        "colab": {
          "base_uri": "https://localhost:8080/",
          "height": 35
        },
        "outputId": "c6bad6fd-a96f-4182-ebfb-6c174719c437"
      },
      "source": [
        "d['Name']"
      ],
      "execution_count": null,
      "outputs": [
        {
          "output_type": "execute_result",
          "data": {
            "application/vnd.google.colaboratory.intrinsic+json": {
              "type": "string"
            },
            "text/plain": [
              "'Alabs'"
            ]
          },
          "metadata": {
            "tags": []
          },
          "execution_count": 39
        }
      ]
    },
    {
      "cell_type": "code",
      "metadata": {
        "id": "2e7fZRPFUA9X",
        "colab": {
          "base_uri": "https://localhost:8080/"
        },
        "outputId": "4e8c357e-a5ac-4897-c8a3-b3eef1fb36a5"
      },
      "source": [
        "params = {\"parameter1\" : 1.0,\n",
        "          \"parameter2\" : 2.0,\n",
        "          \"parameter3\" : 3.0,}\n",
        "\n",
        "print(type(params))\n",
        "print(params)"
      ],
      "execution_count": null,
      "outputs": [
        {
          "output_type": "stream",
          "text": [
            "<class 'dict'>\n",
            "{'parameter1': 1.0, 'parameter2': 2.0, 'parameter3': 3.0}\n"
          ],
          "name": "stdout"
        }
      ]
    },
    {
      "cell_type": "code",
      "metadata": {
        "id": "tJDUnyKUUA9X",
        "colab": {
          "base_uri": "https://localhost:8080/"
        },
        "outputId": "d629bb97-6be0-4ead-a701-5f47b3b77a5f"
      },
      "source": [
        "print(\"parameter1 = \" + str(params[\"parameter1\"]))\n",
        "print(\"parameter2 = \" + str(params[\"parameter2\"]))\n",
        "print(\"parameter3 = \" + str(params[\"parameter3\"]))"
      ],
      "execution_count": null,
      "outputs": [
        {
          "output_type": "stream",
          "text": [
            "parameter1 = 1.0\n",
            "parameter2 = 2.0\n",
            "parameter3 = 3.0\n"
          ],
          "name": "stdout"
        }
      ]
    },
    {
      "cell_type": "code",
      "metadata": {
        "id": "G79tFHHbUA9X",
        "colab": {
          "base_uri": "https://localhost:8080/"
        },
        "outputId": "adfab7d4-488e-452d-8a65-c18acdb7c4b5"
      },
      "source": [
        "params[\"parameter1\"] = \"A\"\n",
        "params[\"parameter2\"] = \"B\"\n",
        "\n",
        "# add a new entry\n",
        "params[\"parameter4\"] = \"D\"\n",
        "\n",
        "print(\"parameter1 = \" + str(params[\"parameter1\"]))\n",
        "print(\"parameter2 = \" + str(params[\"parameter2\"]))\n",
        "print(\"parameter3 = \" + str(params[\"parameter3\"]))\n",
        "print(\"parameter4 = \" + str(params[\"parameter4\"]))"
      ],
      "execution_count": null,
      "outputs": [
        {
          "output_type": "stream",
          "text": [
            "parameter1 = A\n",
            "parameter2 = B\n",
            "parameter3 = 3.0\n",
            "parameter4 = D\n"
          ],
          "name": "stdout"
        }
      ]
    },
    {
      "cell_type": "code",
      "metadata": {
        "id": "z9iRdCDGUA9X"
      },
      "source": [
        "#Sets\n",
        "s1=set([1,2,2,3,4,4,4,4,5,5,5])"
      ],
      "execution_count": null,
      "outputs": []
    },
    {
      "cell_type": "code",
      "metadata": {
        "id": "-HgWAZQ5UA9Y",
        "colab": {
          "base_uri": "https://localhost:8080/"
        },
        "outputId": "74ba6514-3415-4dfb-c7f0-04c12aec15de"
      },
      "source": [
        "s1"
      ],
      "execution_count": null,
      "outputs": [
        {
          "output_type": "execute_result",
          "data": {
            "text/plain": [
              "{1, 2, 3, 4, 5}"
            ]
          },
          "metadata": {
            "tags": []
          },
          "execution_count": 44
        }
      ]
    },
    {
      "cell_type": "code",
      "metadata": {
        "id": "UvMxV8OcUA9Y"
      },
      "source": [
        "s1.add(10)"
      ],
      "execution_count": null,
      "outputs": []
    },
    {
      "cell_type": "code",
      "metadata": {
        "id": "M2Sx4K4IXhBm"
      },
      "source": [
        "s1.add('abc')"
      ],
      "execution_count": null,
      "outputs": []
    },
    {
      "cell_type": "code",
      "metadata": {
        "id": "3bGZLzTtUA9Y",
        "colab": {
          "base_uri": "https://localhost:8080/"
        },
        "outputId": "4d8e2ac8-ba9f-46cb-d718-35ba9aa17712"
      },
      "source": [
        "s1"
      ],
      "execution_count": null,
      "outputs": [
        {
          "output_type": "execute_result",
          "data": {
            "text/plain": [
              "{1, 10, 2, 3, 4, 5, 'a', 'abc'}"
            ]
          },
          "metadata": {
            "tags": []
          },
          "execution_count": 116
        }
      ]
    },
    {
      "cell_type": "code",
      "metadata": {
        "id": "ZijODqwzUA9Y",
        "colab": {
          "base_uri": "https://localhost:8080/"
        },
        "outputId": "a35e83f4-5a73-4d3f-c823-229812d5f49e"
      },
      "source": [
        "s1.union([1,10,20])"
      ],
      "execution_count": null,
      "outputs": [
        {
          "output_type": "execute_result",
          "data": {
            "text/plain": [
              "{1, 2, 3, 4, 5, 10, 20}"
            ]
          },
          "metadata": {
            "tags": []
          },
          "execution_count": 47
        }
      ]
    },
    {
      "cell_type": "code",
      "metadata": {
        "id": "7tl52Q69UA9Y",
        "colab": {
          "base_uri": "https://localhost:8080/"
        },
        "outputId": "c1952d3c-0717-4369-cfe3-a26d513590c9"
      },
      "source": [
        "s1.intersection([1,2,4,20,30,40])"
      ],
      "execution_count": null,
      "outputs": [
        {
          "output_type": "execute_result",
          "data": {
            "text/plain": [
              "{1, 2, 4}"
            ]
          },
          "metadata": {
            "tags": []
          },
          "execution_count": 48
        }
      ]
    },
    {
      "cell_type": "code",
      "metadata": {
        "id": "LD6ty9u4UA9Y"
      },
      "source": [
        "s2=set([1,20,20,30,40])"
      ],
      "execution_count": null,
      "outputs": []
    },
    {
      "cell_type": "code",
      "metadata": {
        "id": "cc9hyVYZUA9Y",
        "colab": {
          "base_uri": "https://localhost:8080/"
        },
        "outputId": "776cbdb9-0744-4b32-cbc7-25226fffd7e4"
      },
      "source": [
        "print (s1); print (s2)"
      ],
      "execution_count": null,
      "outputs": [
        {
          "output_type": "stream",
          "text": [
            "{1, 2, 3, 4, 5, 10}\n",
            "{40, 1, 20, 30}\n"
          ],
          "name": "stdout"
        }
      ]
    },
    {
      "cell_type": "code",
      "metadata": {
        "id": "E64WmOFXUA9Z",
        "colab": {
          "base_uri": "https://localhost:8080/"
        },
        "outputId": "d1da05b5-21f5-4478-c7e3-86d289281271"
      },
      "source": [
        "s1.union(s2)"
      ],
      "execution_count": null,
      "outputs": [
        {
          "output_type": "execute_result",
          "data": {
            "text/plain": [
              "{1, 2, 3, 4, 5, 10, 20, 30, 40}"
            ]
          },
          "metadata": {
            "tags": []
          },
          "execution_count": 51
        }
      ]
    },
    {
      "cell_type": "markdown",
      "metadata": {
        "id": "b4jriuLWUA9Z"
      },
      "source": [
        "## Control Flow"
      ]
    },
    {
      "cell_type": "markdown",
      "metadata": {
        "id": "-N7PRAjlUA9Z"
      },
      "source": [
        "### Conditional statements: if, elif, else"
      ]
    },
    {
      "cell_type": "markdown",
      "metadata": {
        "id": "eZ0ViPvcUA9Z"
      },
      "source": [
        "The Python syntax for conditional execution of code uses the keywords `if`, `elif` (else if), `else`:"
      ]
    },
    {
      "cell_type": "markdown",
      "metadata": {
        "id": "YUtbp1UKUA9Z"
      },
      "source": [
        "> ### Basic Syntax\n",
        "\n",
        "    if (condition 1):\n",
        "        action 1\n",
        "    elif (condition 2):\n",
        "        action 2\n",
        "        ...\n",
        "    elif (condition n):\n",
        "        action n\n",
        "        ...\n",
        "    else:\n",
        "        alternative\n",
        "        \n",
        "        \n",
        "> ### Ternary if-then-else        \n",
        "        \n",
        "    action if condition else alternative   "
      ]
    },
    {
      "cell_type": "code",
      "metadata": {
        "id": "Ht0DJLQ3UA9Z",
        "colab": {
          "base_uri": "https://localhost:8080/"
        },
        "outputId": "b5b0aa32-ff17-413d-9b4e-e331467bc232"
      },
      "source": [
        "statement1 = False\n",
        "statement2 = False\n",
        "\n",
        "if statement1:\n",
        "    print(\"statement1 is True\")\n",
        "    \n",
        "elif statement2:\n",
        "    print(\"statement2 is True\")\n",
        "    \n",
        "else:\n",
        "    print(\"statement1 and statement2 are False\")"
      ],
      "execution_count": null,
      "outputs": [
        {
          "output_type": "stream",
          "text": [
            "statement1 and statement2 are False\n"
          ],
          "name": "stdout"
        }
      ]
    }
  ]
}