{
  "nbformat": 4,
  "nbformat_minor": 0,
  "metadata": {
    "anaconda-cloud": {},
    "kernelspec": {
      "display_name": "Python 3",
      "language": "python",
      "name": "python3"
    },
    "language_info": {
      "codemirror_mode": {
        "name": "ipython",
        "version": 3
      },
      "file_extension": ".py",
      "mimetype": "text/x-python",
      "name": "python",
      "nbconvert_exporter": "python",
      "pygments_lexer": "ipython3",
      "version": "3.7.4"
    },
    "colab": {
      "name": "Copy of Python Basics.ipynb",
      "provenance": [],
      "collapsed_sections": [
        "oged_oXsUA8w",
        "drYcFgZvUA8y",
        "rc4jzUAXUA8y",
        "aNr6bQ00UA8z",
        "7XSZrZtfUA80",
        "kAHvfgsfUA81",
        "6X-vdSNbUA81",
        "z3KTcupLUA82",
        "oRCOPJMSUA89",
        "80pvTJosUA9Q",
        "iy2FKYUSUA9T",
        "b4jriuLWUA9Z",
        "-N7PRAjlUA9Z",
        "YUtbp1UKUA9Z",
        "rmQujyO9UA9a",
        "lVYmTTqUUA9b",
        "Z7bzTiAsUA9d",
        "X3hu_9_wUA9d",
        "dWES4gkaUA9e",
        "_xwjSL5bUA9f",
        "9ESCD5pkUA9g",
        "6nv24oNJUA9g",
        "ABB9E6mZUA9h",
        "bHadI7S7UA9k",
        "BCj7STYnUA9m",
        "3robg4EeUA9m",
        "Q1nxERMfUA9o",
        "BHmJ1qxbUA9p",
        "CSNwN6dxUA9p",
        "NTCZoPKxUA9p",
        "IVQ1RJGXUA9q",
        "f1ScRUmQUA9r",
        "Gashjqe9UA9r",
        "e7URoj-NUA9s",
        "mIsyrTL2UA9s",
        "dGDE21t0UA9t",
        "mqrFfcGTUA9u",
        "tHNtnjg6UA95",
        "TmQuplxYUA97",
        "CgRjwsMcUA99"
      ],
      "toc_visible": true
    }
  },
  "cells": [
    {
      "cell_type": "markdown",
      "metadata": {
        "id": "eJR52Kv4UA8h"
      },
      "source": [
        "# Introduction to Python - Programming"
      ]
    },
    {
      "cell_type": "markdown",
      "metadata": {
        "id": "Ka2G_oDHUA8n"
      },
      "source": [
        "## What is Python?"
      ]
    },
    {
      "cell_type": "markdown",
      "metadata": {
        "id": "_TOWGPvHUA8n"
      },
      "source": [
        "[Python](http://www.python.org/) is a modern, general-purpose, object-oriented, high-level programming language.\n",
        "\n",
        "General characteristics of Python:\n",
        "\n",
        "* **clean and simple language:** Easy-to-read and intuitive code, easy-to-learn minimalistic syntax, maintainability scales well with size of projects.\n",
        "* **expressive language:** Fewer lines of code, fewer bugs, easier to maintain.\n",
        "\n",
        "Technical details:\n",
        "\n",
        "* **dynamically typed:** No need to define the type of variables, function arguments or return types.\n",
        "* **automatic memory management:** No need to explicitly allocate and deallocate memory for variables and data arrays. No memory leak bugs. \n",
        "* **interpreted:** No need to compile the code. The Python interpreter reads and executes the python code directly.\n",
        "\n",
        "Advantages:\n",
        "\n",
        "* The main advantage is ease of programming, minimizing the time required to develop, debug and maintain the code.\n",
        "* Well designed language that encourage many good programming practices:\n",
        " * Modular and object-oriented programming, good system for packaging and re-use of code. This often results in more transparent, maintainable and bug-free code.\n",
        " * Documentation tightly integrated with the code.\n",
        "* A large standard library, and a large collection of add-on packages.\n",
        "\n",
        "Disadvantages:\n",
        "\n",
        "* Since Python is an interpreted and dynamically typed programming language, the execution of python code can be slow compared to compiled statically typed programming languages, such as C and Fortran. \n",
        "* Somewhat decentralized, with different environment, packages and documentation spread out at different places. Can make it harder to get started."
      ]
    },
    {
      "cell_type": "markdown",
      "metadata": {
        "id": "YcjkeKuiUA8u"
      },
      "source": [
        "## What makes python suitable for scientific computing?"
      ]
    },
    {
      "cell_type": "markdown",
      "metadata": {
        "id": "Cii57AgqUA8u"
      },
      "source": [
        "<img src=\"images/optimizing-what.png\" width=\"600\">\n",
        "\n",
        "* Python has a strong position in scientific computing: \n",
        "    * Large community of users, easy to find help and documentation.\n",
        "\n",
        "* Extensive ecosystem of scientific libraries and environments\n",
        "    * numpy: http://numpy.scipy.org - Numerical Python\n",
        "    * scipy: http://www.scipy.org -  Scientific Python\n",
        "    * matplotlib: http://www.matplotlib.org - graphics library\n",
        "\n",
        "* Great performance due to close integration with time-tested and highly optimized codes written in C and Fortran:\n",
        "    * blas, atlas blas, lapack, arpack, Intel MKL, ...\n",
        "\n",
        "* Good support for \n",
        "    * Parallel processing with processes and threads\n",
        "    * Interprocess communication (MPI)\n",
        "    * GPU computing (OpenCL and CUDA)\n",
        "\n",
        "* Readily available and suitable for use on high-performance computing clusters. \n",
        "\n",
        "* No license costs, no unnecessary use of research budget."
      ]
    },
    {
      "cell_type": "markdown",
      "metadata": {
        "id": "a85Vi6oZUA8u"
      },
      "source": [
        "### Python environments"
      ]
    },
    {
      "cell_type": "markdown",
      "metadata": {
        "id": "cU-LAoRLUA8u"
      },
      "source": [
        "Python is not only a programming language, but often also refers to the standard implementation of the interpreter (technically referred to as [CPython](http://en.wikipedia.org/wiki/CPython)) that actually runs the python code on a computer.\n",
        "\n",
        "There are also many different environments through which the python interpreter can be used. Each environment has different advantages and is suitable for different workflows. One strength of python is that it is versatile and can be used in complementary ways, but it can be confusing for beginners so we will start with a brief survey of python environments that are useful for scientific computing."
      ]
    },
    {
      "cell_type": "markdown",
      "metadata": {
        "id": "G3a4fE-aUA8v"
      },
      "source": [
        "### IPython"
      ]
    },
    {
      "cell_type": "markdown",
      "metadata": {
        "id": "x2pXtPl7UA8v"
      },
      "source": [
        "IPython is an interactive shell that addresses the limitation of the standard python interpreter, and it is a work-horse for scientific use of python. It provides an interactive prompt to the python interpreter with a greatly improved user-friendliness.\n",
        "\n",
        "<!-- <img src=\"files/images/ipython-screenshot.jpg\" width=\"600\"> -->\n",
        "<img src=\"images/ipython-screenshot.jpg\" width=\"600\">\n",
        "\n",
        "Some of the many useful features of IPython includes:\n",
        "\n",
        "* Command history, which can be browsed with the up and down arrows on the keyboard.\n",
        "* Tab auto-completion.\n",
        "* In-line editing of code.\n",
        "* Object introspection, and automatic extract of documentation strings from python objects like classes and functions.\n",
        "* Good interaction with operating system shell.\n",
        "* Support for multiple parallel back-end processes, that can run on computing clusters or cloud services like Amazon EC2.\n"
      ]
    },
    {
      "cell_type": "markdown",
      "metadata": {
        "id": "1nSHQOYbUA8v"
      },
      "source": [
        "### IPython notebook"
      ]
    },
    {
      "cell_type": "markdown",
      "metadata": {
        "id": "n0m65k74UA8v"
      },
      "source": [
        "[IPython notebook](http://ipython.org/notebook.html) is an HTML-based notebook environment for Python, similar to Mathematica or Maple. It is based on the IPython shell, but provides a cell-based environment with great interactivity, where calculations can be organized and documented in a structured way.\n",
        "\n",
        "<!-- <img src=\"files/images/ipython-notebook-screenshot.jpg\" width=\"800\"> -->\n",
        "<img src=\"images/ipython-notebook-screenshot.jpg\" width=\"800\">\n",
        "\n",
        "Although using a web browser as graphical interface, IPython notebooks are usually run locally, from the same computer that run the browser. To start a new IPython notebook session, run the following command:\n",
        "\n",
        "    $ ipython notebook\n",
        "\n",
        "from a directory where you want the notebooks to be stored. This will open a new browser window (or a new tab in an existing window) with an index page where existing notebooks are shown and from which new notebooks can be created."
      ]
    },
    {
      "cell_type": "markdown",
      "metadata": {
        "id": "oged_oXsUA8w"
      },
      "source": [
        "## Versions of Python"
      ]
    },
    {
      "cell_type": "markdown",
      "metadata": {
        "id": "wWW4-CWaUA8x"
      },
      "source": [
        "There are currently two versions of python: Python 2 and Python 3. Python 3 will eventually supercede Python 2, but it is not backward-compatible with Python 2. A lot of existing python code and packages has been written for Python 2, and it is still the most wide-spread version. For these lectures either version will be fine, but it is probably easier to stick with Python 2 for now, because it is more readily available via prebuilt packages and binary installers.\n",
        "\n",
        "To see which version of Python you have, run\n",
        "    \n",
        "    $ python --version\n",
        "    Python 2.7.3\n",
        "    $ python3.2 --version\n",
        "    Python 3.2.3\n",
        "\n",
        "Several versions of Python can be installed in parallel, as shown above.\n"
      ]
    },
    {
      "cell_type": "markdown",
      "metadata": {
        "id": "drYcFgZvUA8y"
      },
      "source": [
        "## Installation"
      ]
    },
    {
      "cell_type": "markdown",
      "metadata": {
        "id": "rc4jzUAXUA8y"
      },
      "source": [
        "### Conda"
      ]
    },
    {
      "cell_type": "markdown",
      "metadata": {
        "id": "f61VWQodUA8y"
      },
      "source": [
        "The best way set-up an scientific Python environment is to use the cross-platform package manager `conda` from Continuum Analytics. First download and install miniconda http://conda.pydata.org/miniconda.html or Anaconda (see below). Next, to install the required libraries for these notebooks, simply run:\n",
        "\n",
        "    $ conda install ipython ipython-notebook spyder numpy scipy sympy matplotlib cython\n",
        "\n",
        "This should be sufficient to get a working environment on any platform supported by `conda`."
      ]
    },
    {
      "cell_type": "markdown",
      "metadata": {
        "id": "aNr6bQ00UA8z"
      },
      "source": [
        "## Python and module versions\n",
        "\n",
        "Since there are several different versions of Python and each Python package has its own release cycle and version number (for example scipy, numpy, matplotlib, etc., which we installed above and will discuss in detail in the following lectures), it is important for the reproducibility of an IPython notebook to record the versions of all these different software packages. If this is done properly it will be easy to reproduce the environment that was used to run a notebook, but if not it can be hard to know what was used to produce the results in a notebook.\n",
        "\n",
        "To encourage the practice of recording Python and module versions in notebooks, I've created a simple IPython extension that produces a table with versions numbers of selected software components. I believe that it is a good practice to include this kind of table in every notebook you create. \n",
        "\n",
        "To install this IPython extension, use `pip install version_information`:"
      ]
    },
    {
      "cell_type": "code",
      "metadata": {
        "id": "E1QRRwjpUA8z",
        "colab": {
          "base_uri": "https://localhost:8080/"
        },
        "outputId": "0f2d4fd5-b013-4e57-c801-366d21ab923b"
      },
      "source": [
        "# you only need to do this once\n",
        "!pip install --upgrade version_information"
      ],
      "execution_count": null,
      "outputs": [
        {
          "output_type": "stream",
          "text": [
            "Collecting version_information\n",
            "  Downloading https://files.pythonhosted.org/packages/ff/b0/6088e15b9ac43a08ccd300d68e0b900a20cf62077596c11ad11dd8cc9e4b/version_information-1.0.3.tar.gz\n",
            "Building wheels for collected packages: version-information\n",
            "  Building wheel for version-information (setup.py) ... \u001b[?25l\u001b[?25hdone\n",
            "  Created wheel for version-information: filename=version_information-1.0.3-cp36-none-any.whl size=3881 sha256=b7b41464f727440977a0af198d6cd04de76cabc1e8ebeae584aac59924884dd9\n",
            "  Stored in directory: /root/.cache/pip/wheels/1f/4c/b3/1976ac11dbd802723b564de1acaa453a72c36c95827e576321\n",
            "Successfully built version-information\n",
            "Installing collected packages: version-information\n",
            "Successfully installed version-information-1.0.3\n"
          ],
          "name": "stdout"
        }
      ]
    },
    {
      "cell_type": "code",
      "metadata": {
        "id": "t14mXjqqUA8z",
        "colab": {
          "base_uri": "https://localhost:8080/"
        },
        "outputId": "dc1f98c4-06f7-46cc-e58d-574c99b4c418"
      },
      "source": [
        "%load_ext version_information\n",
        "\n",
        "%version_information numpy, scipy, matplotlib, sympy, version_information"
      ],
      "execution_count": null,
      "outputs": [
        {
          "output_type": "execute_result",
          "data": {
            "text/latex": "\\begin{tabular}{|l|l|}\\hline\n{\\bf Software} & {\\bf Version} \\\\ \\hline\\hline\nPython & 3.6.9 64bit [GCC 8.4.0] \\\\ \\hline\nIPython & 5.5.0 \\\\ \\hline\nOS & Linux 4.19.112+ x86\\_64 with Ubuntu 18.04 bionic \\\\ \\hline\nnumpy & 1.19.5 \\\\ \\hline\nscipy & 1.4.1 \\\\ \\hline\nmatplotlib & 3.2.2 \\\\ \\hline\nsympy & 1.1.1 \\\\ \\hline\nversion_information & 1.0.3 \\\\ \\hline\n\\hline \\multicolumn{2}{|l|}{Thu Feb 04 12:41:35 2021 UTC} \\\\ \\hline\n\\end{tabular}\n",
            "application/json": {
              "Software versions": [
                {
                  "version": "3.6.9 64bit [GCC 8.4.0]",
                  "module": "Python"
                },
                {
                  "version": "5.5.0",
                  "module": "IPython"
                },
                {
                  "version": "Linux 4.19.112+ x86_64 with Ubuntu 18.04 bionic",
                  "module": "OS"
                },
                {
                  "version": "1.19.5",
                  "module": "numpy"
                },
                {
                  "version": "1.4.1",
                  "module": "scipy"
                },
                {
                  "version": "3.2.2",
                  "module": "matplotlib"
                },
                {
                  "version": "1.1.1",
                  "module": "sympy"
                },
                {
                  "version": "1.0.3",
                  "module": "version_information"
                }
              ]
            },
            "text/html": [
              "<table><tr><th>Software</th><th>Version</th></tr><tr><td>Python</td><td>3.6.9 64bit [GCC 8.4.0]</td></tr><tr><td>IPython</td><td>5.5.0</td></tr><tr><td>OS</td><td>Linux 4.19.112+ x86_64 with Ubuntu 18.04 bionic</td></tr><tr><td>numpy</td><td>1.19.5</td></tr><tr><td>scipy</td><td>1.4.1</td></tr><tr><td>matplotlib</td><td>3.2.2</td></tr><tr><td>sympy</td><td>1.1.1</td></tr><tr><td>version_information</td><td>1.0.3</td></tr><tr><td colspan='2'>Thu Feb 04 12:41:35 2021 UTC</td></tr></table>"
            ],
            "text/plain": [
              "Software versions\n",
              "Python 3.6.9 64bit [GCC 8.4.0]\n",
              "IPython 5.5.0\n",
              "OS Linux 4.19.112+ x86_64 with Ubuntu 18.04 bionic\n",
              "numpy 1.19.5\n",
              "scipy 1.4.1\n",
              "matplotlib 3.2.2\n",
              "sympy 1.1.1\n",
              "version_information 1.0.3\n",
              "Thu Feb 04 12:41:35 2021 UTC"
            ]
          },
          "metadata": {
            "tags": []
          },
          "execution_count": 2
        }
      ]
    },
    {
      "cell_type": "markdown",
      "metadata": {
        "id": "7XSZrZtfUA80"
      },
      "source": [
        "## Launching the notebook"
      ]
    },
    {
      "cell_type": "markdown",
      "metadata": {
        "id": "4BshI7OMUA80"
      },
      "source": [
        "**On windows** - Windows Button + R + type 'cmd' + \n",
        "type 'jupyter notebook' + opens up in the browser + 'New' + Python Notebook"
      ]
    },
    {
      "cell_type": "markdown",
      "metadata": {
        "id": "OGd_mpxoUA80"
      },
      "source": [
        "**On Mac/Linux** - Terminal + 'jupyter notebook'+ opens up in the browser + 'New' + Python Notebook"
      ]
    },
    {
      "cell_type": "markdown",
      "metadata": {
        "id": "kNgUg2r-UA80"
      },
      "source": [
        "Note\n",
        "\n",
        "- Autocomplete function and object names with < tab >\n",
        "- Get help on functions, objects, methods by appending a '?' and hit Shift-enter."
      ]
    },
    {
      "cell_type": "code",
      "metadata": {
        "id": "aMBqnN9qUA80"
      },
      "source": [
        ""
      ],
      "execution_count": null,
      "outputs": []
    },
    {
      "cell_type": "markdown",
      "metadata": {
        "id": "kAHvfgsfUA81"
      },
      "source": [
        "## Python program files"
      ]
    },
    {
      "cell_type": "markdown",
      "metadata": {
        "id": "BMSbxa4-UA81"
      },
      "source": [
        "* Python code is usually stored in text files with the file ending \"`.py`\":\n",
        "\n",
        "        myprogram.py\n",
        "\n",
        "* Every line in a Python program file is assumed to be a Python statement, or part thereof. \n",
        "\n",
        "    * The only exception is comment lines, which start with the character `#` (optionally preceded by an arbitrary number of white-space characters, i.e., tabs or spaces). Comment lines are usually ignored by the Python interpreter.\n",
        "\n",
        "\n",
        "* To run our Python program from the command line we use:\n",
        "\n",
        "        $ python myprogram.py\n",
        "\n",
        "* On UNIX systems it is common to define the path to the interpreter on the first line of the program (note that this is a comment line as far as the Python interpreter is concerned):\n",
        "\n",
        "        #!/usr/bin/env python\n",
        "\n",
        "  If we do, and if we additionally set the file script to be executable, we can run the program like this:\n",
        "\n",
        "        $ myprogram.py"
      ]
    },
    {
      "cell_type": "markdown",
      "metadata": {
        "id": "6X-vdSNbUA81"
      },
      "source": [
        "### Example:"
      ]
    },
    {
      "cell_type": "code",
      "metadata": {
        "id": "Bdq8WgjMUA82",
        "colab": {
          "base_uri": "https://localhost:8080/"
        },
        "outputId": "9777050b-8c75-4587-c35e-1e8d8edbddfd"
      },
      "source": [
        "ls scripts/hello-world*.py"
      ],
      "execution_count": null,
      "outputs": [
        {
          "output_type": "stream",
          "text": [
            "ls: cannot access 'scripts/hello-world*.py': No such file or directory\n"
          ],
          "name": "stdout"
        }
      ]
    },
    {
      "cell_type": "code",
      "metadata": {
        "id": "nMcZy5nOUA82",
        "colab": {
          "base_uri": "https://localhost:8080/"
        },
        "outputId": "d7e8a58a-c52f-4eef-f435-3a5ad2ef998a"
      },
      "source": [
        "cat scripts/hello-world.py"
      ],
      "execution_count": null,
      "outputs": [
        {
          "output_type": "stream",
          "text": [
            "cat: scripts/hello-world.py: No such file or directory\n"
          ],
          "name": "stdout"
        }
      ]
    },
    {
      "cell_type": "code",
      "metadata": {
        "id": "UQ8qKbbRUA82",
        "colab": {
          "base_uri": "https://localhost:8080/"
        },
        "outputId": "9d3f0fa6-93f1-44e8-dc31-16378204420f"
      },
      "source": [
        "!python scripts/hello-world.py"
      ],
      "execution_count": null,
      "outputs": [
        {
          "output_type": "stream",
          "text": [
            "python3: can't open file 'scripts/hello-world.py': [Errno 2] No such file or directory\n"
          ],
          "name": "stdout"
        }
      ]
    },
    {
      "cell_type": "markdown",
      "metadata": {
        "id": "z3KTcupLUA82"
      },
      "source": [
        "## IPython notebooks"
      ]
    },
    {
      "cell_type": "markdown",
      "metadata": {
        "id": "qcFb2s9HUA83"
      },
      "source": [
        "This file - an IPython notebook -  does not follow the standard pattern with Python code in a text file. Instead, an IPython notebook is stored as a file in the [JSON](http://en.wikipedia.org/wiki/JSON) format. The advantage is that we can mix formatted text, Python code and code output. It requires the IPython notebook server to run it though, and therefore isn't a stand-alone Python program as described above. Other than that, there is no difference between the Python code that goes into a program file or an IPython notebook."
      ]
    },
    {
      "cell_type": "markdown",
      "metadata": {
        "id": "58eFnb_aUA83"
      },
      "source": [
        "## Modules"
      ]
    },
    {
      "cell_type": "markdown",
      "metadata": {
        "id": "TBRKDXwBUA83"
      },
      "source": [
        "Most of the functionality in Python is provided by *modules*. The Python Standard Library is a large collection of modules that provides *cross-platform* implementations of common facilities such as access to the operating system, file I/O, string management, network communication, and much more."
      ]
    },
    {
      "cell_type": "markdown",
      "metadata": {
        "id": "mzJobLz-UA83"
      },
      "source": [
        "To use a module in a Python program it first has to be imported. A module can be imported using the `import` statement. For example, to import the module `math`, which contains many standard mathematical functions, we can do:"
      ]
    },
    {
      "cell_type": "code",
      "metadata": {
        "id": "YScyP1e2UA83"
      },
      "source": [
        "import math"
      ],
      "execution_count": null,
      "outputs": []
    },
    {
      "cell_type": "markdown",
      "metadata": {
        "id": "6VU54_FyUA84"
      },
      "source": [
        "This includes the whole module and makes it available for use later in the program. For example, we can do:"
      ]
    },
    {
      "cell_type": "code",
      "metadata": {
        "id": "pAW2EmxEUA84",
        "colab": {
          "base_uri": "https://localhost:8080/"
        },
        "outputId": "dca72f6b-5504-4025-a26a-0ddb5d11fe89"
      },
      "source": [
        "x = math.cos(2 * math.pi)\n",
        "\n",
        "print(x)"
      ],
      "execution_count": null,
      "outputs": [
        {
          "output_type": "stream",
          "text": [
            "1.0\n"
          ],
          "name": "stdout"
        }
      ]
    },
    {
      "cell_type": "markdown",
      "metadata": {
        "id": "oep9RJlNUA84"
      },
      "source": [
        "Alternatively, we can chose to import all symbols (functions and variables) in a module to the current namespace (so that we don't need to use the prefix \"`math.`\" every time we use something from the `math` module:"
      ]
    },
    {
      "cell_type": "code",
      "metadata": {
        "id": "INfMT8f9UA84",
        "colab": {
          "base_uri": "https://localhost:8080/"
        },
        "outputId": "78c9a8ed-989d-4b24-fd70-842e53e78be2"
      },
      "source": [
        "from math import *\n",
        "\n",
        "x = cos(2 * pi)\n",
        "\n",
        "print(x)"
      ],
      "execution_count": null,
      "outputs": [
        {
          "output_type": "stream",
          "text": [
            "1.0\n"
          ],
          "name": "stdout"
        }
      ]
    },
    {
      "cell_type": "markdown",
      "metadata": {
        "id": "yLAE-afVUA85"
      },
      "source": [
        "This pattern can be very convenient, but in large programs that include many modules it is often a good idea to keep the symbols from each module in their own namespaces, by using the `import math` pattern. This would elminate potentially confusing problems with name space collisions.\n",
        "\n",
        "As a third alternative, we can chose to import only a few selected symbols from a module by explicitly listing which ones we want to import instead of using the wildcard character `*`:"
      ]
    },
    {
      "cell_type": "code",
      "metadata": {
        "id": "3XM_paS9UA85",
        "colab": {
          "base_uri": "https://localhost:8080/"
        },
        "outputId": "17b6dd16-1bac-4aa9-d260-aa0a02c84553"
      },
      "source": [
        "from math import cos, pi\n",
        "\n",
        "x = cos(2 * pi)\n",
        "\n",
        "print(x)"
      ],
      "execution_count": null,
      "outputs": [
        {
          "output_type": "stream",
          "text": [
            "1.0\n"
          ],
          "name": "stdout"
        }
      ]
    },
    {
      "cell_type": "markdown",
      "metadata": {
        "id": "eidWSeq2UA85"
      },
      "source": [
        "### Looking at what a module contains, and its documentation"
      ]
    },
    {
      "cell_type": "markdown",
      "metadata": {
        "id": "Axk1JoyAUA85"
      },
      "source": [
        "Once a module is imported, we can list the symbols it provides using the `dir` function:"
      ]
    },
    {
      "cell_type": "code",
      "metadata": {
        "id": "UyZQw0DGUA85",
        "colab": {
          "base_uri": "https://localhost:8080/"
        },
        "outputId": "c060d791-51ba-4b48-84d7-de03d4f8b675"
      },
      "source": [
        "import math\n",
        "\n",
        "print(dir(math))"
      ],
      "execution_count": null,
      "outputs": [
        {
          "output_type": "stream",
          "text": [
            "['__doc__', '__loader__', '__name__', '__package__', '__spec__', 'acos', 'acosh', 'asin', 'asinh', 'atan', 'atan2', 'atanh', 'ceil', 'copysign', 'cos', 'cosh', 'degrees', 'e', 'erf', 'erfc', 'exp', 'expm1', 'fabs', 'factorial', 'floor', 'fmod', 'frexp', 'fsum', 'gamma', 'gcd', 'hypot', 'inf', 'isclose', 'isfinite', 'isinf', 'isnan', 'ldexp', 'lgamma', 'log', 'log10', 'log1p', 'log2', 'modf', 'nan', 'pi', 'pow', 'radians', 'sin', 'sinh', 'sqrt', 'tan', 'tanh', 'tau', 'trunc']\n"
          ],
          "name": "stdout"
        }
      ]
    },
    {
      "cell_type": "code",
      "metadata": {
        "id": "7fjP34jtUA86",
        "colab": {
          "base_uri": "https://localhost:8080/"
        },
        "outputId": "f2bf8f05-eb99-4c31-9a23-a5312087bc4e"
      },
      "source": [
        "import pandas\n",
        "print(dir(pandas))"
      ],
      "execution_count": null,
      "outputs": [
        {
          "output_type": "stream",
          "text": [
            "['BooleanDtype', 'Categorical', 'CategoricalDtype', 'CategoricalIndex', 'DataFrame', 'DateOffset', 'DatetimeIndex', 'DatetimeTZDtype', 'ExcelFile', 'ExcelWriter', 'Float64Index', 'Grouper', 'HDFStore', 'Index', 'IndexSlice', 'Int16Dtype', 'Int32Dtype', 'Int64Dtype', 'Int64Index', 'Int8Dtype', 'Interval', 'IntervalDtype', 'IntervalIndex', 'MultiIndex', 'NA', 'NaT', 'NamedAgg', 'Panel', 'Period', 'PeriodDtype', 'PeriodIndex', 'RangeIndex', 'Series', 'SparseArray', 'SparseDataFrame', 'SparseDtype', 'SparseSeries', 'StringDtype', 'Timedelta', 'TimedeltaIndex', 'Timestamp', 'UInt16Dtype', 'UInt32Dtype', 'UInt64Dtype', 'UInt64Index', 'UInt8Dtype', '__Datetime', '__DatetimeSub', '__SparseArray', '__SparseArraySub', '__builtins__', '__cached__', '__doc__', '__docformat__', '__file__', '__git_version__', '__loader__', '__name__', '__numpy', '__package__', '__path__', '__spec__', '__version__', '_config', '_hashtable', '_is_numpy_dev', '_lib', '_libs', '_np_version_under1p16', '_np_version_under1p17', '_np_version_under1p18', '_testing', '_tslib', '_typing', '_version', 'api', 'array', 'arrays', 'bdate_range', 'compat', 'concat', 'core', 'crosstab', 'cut', 'date_range', 'datetime', 'describe_option', 'errors', 'eval', 'factorize', 'get_dummies', 'get_option', 'infer_freq', 'interval_range', 'io', 'isna', 'isnull', 'json_normalize', 'lreshape', 'melt', 'merge', 'merge_asof', 'merge_ordered', 'notna', 'notnull', 'np', 'offsets', 'option_context', 'options', 'pandas', 'period_range', 'pivot', 'pivot_table', 'plotting', 'qcut', 'read_clipboard', 'read_csv', 'read_excel', 'read_feather', 'read_fwf', 'read_gbq', 'read_hdf', 'read_html', 'read_json', 'read_orc', 'read_parquet', 'read_pickle', 'read_sas', 'read_spss', 'read_sql', 'read_sql_query', 'read_sql_table', 'read_stata', 'read_table', 'reset_option', 'set_eng_float_format', 'set_option', 'show_versions', 'test', 'testing', 'timedelta_range', 'to_datetime', 'to_numeric', 'to_pickle', 'to_timedelta', 'tseries', 'unique', 'util', 'value_counts', 'wide_to_long']\n"
          ],
          "name": "stdout"
        }
      ]
    },
    {
      "cell_type": "markdown",
      "metadata": {
        "id": "6U39_VHAUA88"
      },
      "source": [
        "And using the function `help` we can get a description of each function (almost .. not all functions have docstrings, as they are technically called, but the vast majority of functions are documented this way). "
      ]
    },
    {
      "cell_type": "code",
      "metadata": {
        "id": "sHjbz21AUA88",
        "colab": {
          "base_uri": "https://localhost:8080/"
        },
        "outputId": "9ec5a76f-d4ee-4f10-bc4e-f5bc9186d991"
      },
      "source": [
        "help(math.log)"
      ],
      "execution_count": null,
      "outputs": [
        {
          "output_type": "stream",
          "text": [
            "Help on built-in function log in module math:\n",
            "\n",
            "log(...)\n",
            "    log(x[, base])\n",
            "    \n",
            "    Return the logarithm of x to the given base.\n",
            "    If the base not specified, returns the natural logarithm (base e) of x.\n",
            "\n"
          ],
          "name": "stdout"
        }
      ]
    },
    {
      "cell_type": "code",
      "metadata": {
        "id": "cjYA8v0fUA89",
        "colab": {
          "base_uri": "https://localhost:8080/"
        },
        "outputId": "5d415092-240b-4333-b30a-468e2677c23f"
      },
      "source": [
        "log(10)"
      ],
      "execution_count": null,
      "outputs": [
        {
          "output_type": "execute_result",
          "data": {
            "text/plain": [
              "2.302585092994046"
            ]
          },
          "metadata": {
            "tags": []
          },
          "execution_count": 13
        }
      ]
    },
    {
      "cell_type": "code",
      "metadata": {
        "id": "YPtXsiKHUA89",
        "colab": {
          "base_uri": "https://localhost:8080/"
        },
        "outputId": "de54fafe-96b3-4be3-c510-423c42aeb9f0"
      },
      "source": [
        "log(10, 2)"
      ],
      "execution_count": null,
      "outputs": [
        {
          "output_type": "execute_result",
          "data": {
            "text/plain": [
              "3.3219280948873626"
            ]
          },
          "metadata": {
            "tags": []
          },
          "execution_count": 14
        }
      ]
    },
    {
      "cell_type": "markdown",
      "metadata": {
        "id": "bPUqCY5-UA89"
      },
      "source": [
        "We can also use the `help` function directly on modules: Try\n",
        "\n",
        "    help(math) \n",
        "\n",
        "Some very useful modules form the Python standard library are `os`, `sys`, `math`, `shutil`, `re`, `subprocess`, `multiprocessing`, `threading`. \n",
        "\n",
        "A complete lists of standard modules for Python 2 and Python 3 are available at http://docs.python.org/2/library/ and http://docs.python.org/3/library/, respectively."
      ]
    },
    {
      "cell_type": "markdown",
      "metadata": {
        "id": "qXVU4mGBUA89"
      },
      "source": [
        "## Variables and types"
      ]
    },
    {
      "cell_type": "markdown",
      "metadata": {
        "id": "oRCOPJMSUA89"
      },
      "source": [
        "### Symbol names "
      ]
    },
    {
      "cell_type": "markdown",
      "metadata": {
        "id": "LHYQTFFjUA89"
      },
      "source": [
        "Variable names in Python can contain alphanumerical characters `a-z`, `A-Z`, `0-9` and some special characters such as `_`. Normal variable names must start with a letter. \n",
        "\n",
        "By convention, variable names start with a lower-case letter, and Class names start with a capital letter. \n",
        "\n",
        "In addition, there are a number of Python keywords that cannot be used as variable names. These keywords are:\n",
        "\n",
        "    and, as, assert, break, class, continue, def, del, elif, else, except, \n",
        "    exec, finally, for, from, global, if, import, in, is, lambda, not, or,\n",
        "    pass, print, raise, return, try, while, with, yield\n",
        "\n",
        "Note: Be aware of the keyword `lambda`, which could easily be a natural variable name in a scientific program. But being a keyword, it cannot be used as a variable name."
      ]
    },
    {
      "cell_type": "markdown",
      "metadata": {
        "id": "yYmty6cnUA89"
      },
      "source": [
        "### Assignment"
      ]
    },
    {
      "cell_type": "markdown",
      "metadata": {
        "id": "9NF0GFx9UA89"
      },
      "source": [
        "\n",
        "\n",
        "The assignment operator in Python is `=`. Python is a dynamically typed language, so we do not need to specify the type of a variable when we create one.\n",
        "\n",
        "Assigning a value to a new variable creates the variable:"
      ]
    },
    {
      "cell_type": "code",
      "metadata": {
        "id": "DWYbPjKPUA89"
      },
      "source": [
        "# variable assignments\n",
        "x = 1.0\n",
        "my_variable = 12.2"
      ],
      "execution_count": null,
      "outputs": []
    },
    {
      "cell_type": "markdown",
      "metadata": {
        "id": "6kddu855UA8-"
      },
      "source": [
        "Although not explicitly specified, a variable does have a type associated with it. The type is derived from the value that was assigned to it."
      ]
    },
    {
      "cell_type": "code",
      "metadata": {
        "id": "VRg1IVCCUA8-",
        "colab": {
          "base_uri": "https://localhost:8080/"
        },
        "outputId": "656fbed3-7d77-440d-c934-8492f9acfba0"
      },
      "source": [
        "type(x)"
      ],
      "execution_count": null,
      "outputs": [
        {
          "output_type": "execute_result",
          "data": {
            "text/plain": [
              "float"
            ]
          },
          "metadata": {
            "tags": []
          },
          "execution_count": 16
        }
      ]
    },
    {
      "cell_type": "markdown",
      "metadata": {
        "id": "byuN6MTvUA8-"
      },
      "source": [
        "If we assign a new value to a variable, its type can change."
      ]
    },
    {
      "cell_type": "code",
      "metadata": {
        "id": "MEO3E-96UA8-"
      },
      "source": [
        "x = 1"
      ],
      "execution_count": null,
      "outputs": []
    },
    {
      "cell_type": "code",
      "metadata": {
        "id": "Tnho8ZLDUA8-",
        "colab": {
          "base_uri": "https://localhost:8080/"
        },
        "outputId": "219762e3-712a-4cb9-ebc5-edeb45d546a5"
      },
      "source": [
        "type(x)"
      ],
      "execution_count": null,
      "outputs": [
        {
          "output_type": "execute_result",
          "data": {
            "text/plain": [
              "int"
            ]
          },
          "metadata": {
            "tags": []
          },
          "execution_count": 18
        }
      ]
    },
    {
      "cell_type": "markdown",
      "metadata": {
        "id": "xYpxZWmSUA8-"
      },
      "source": [
        "If we try to use a variable that has not yet been defined we get an `NameError`:"
      ]
    },
    {
      "cell_type": "code",
      "metadata": {
        "id": "SW7zUd0RUA8-",
        "colab": {
          "base_uri": "https://localhost:8080/",
          "height": 162
        },
        "outputId": "fd8b5f41-0809-4546-da3f-0dbbcd11f3c6"
      },
      "source": [
        "print(y)"
      ],
      "execution_count": null,
      "outputs": [
        {
          "output_type": "error",
          "ename": "NameError",
          "evalue": "ignored",
          "traceback": [
            "\u001b[0;31m---------------------------------------------------------------------------\u001b[0m",
            "\u001b[0;31mNameError\u001b[0m                                 Traceback (most recent call last)",
            "\u001b[0;32m<ipython-input-19-d9183e048de3>\u001b[0m in \u001b[0;36m<module>\u001b[0;34m()\u001b[0m\n\u001b[0;32m----> 1\u001b[0;31m \u001b[0mprint\u001b[0m\u001b[0;34m(\u001b[0m\u001b[0my\u001b[0m\u001b[0;34m)\u001b[0m\u001b[0;34m\u001b[0m\u001b[0;34m\u001b[0m\u001b[0m\n\u001b[0m",
            "\u001b[0;31mNameError\u001b[0m: name 'y' is not defined"
          ]
        }
      ]
    },
    {
      "cell_type": "markdown",
      "metadata": {
        "id": "JQGom_BWUA8-"
      },
      "source": [
        "### Fundamental Data Types\n",
        "\n",
        "> #### Numeric Types: int, long, float, bool, complex, None\n",
        "> #### Compound Types: Strings, touples, lists, dictionaries, sets"
      ]
    },
    {
      "cell_type": "code",
      "metadata": {
        "id": "OOddxjjfUA8_",
        "colab": {
          "base_uri": "https://localhost:8080/"
        },
        "outputId": "040b2172-5b91-489f-e311-8be8e84cc9d1"
      },
      "source": [
        "# integers\n",
        "i = 1\n",
        "type(i)"
      ],
      "execution_count": null,
      "outputs": [
        {
          "output_type": "execute_result",
          "data": {
            "text/plain": [
              "int"
            ]
          },
          "metadata": {
            "tags": []
          },
          "execution_count": 21
        }
      ]
    },
    {
      "cell_type": "code",
      "metadata": {
        "id": "mRuAfR8AUA8_",
        "colab": {
          "base_uri": "https://localhost:8080/"
        },
        "outputId": "c39bb220-b2d8-46ac-c63c-85ced8413b28"
      },
      "source": [
        "# float\n",
        "f = 1.0\n",
        "type(f)"
      ],
      "execution_count": null,
      "outputs": [
        {
          "output_type": "execute_result",
          "data": {
            "text/plain": [
              "float"
            ]
          },
          "metadata": {
            "tags": []
          },
          "execution_count": 22
        }
      ]
    },
    {
      "cell_type": "code",
      "metadata": {
        "id": "NPB2vdycUA8_",
        "colab": {
          "base_uri": "https://localhost:8080/"
        },
        "outputId": "41cb9de0-5236-4b94-e586-633b1b0d19dd"
      },
      "source": [
        "# Int stored as string => int\n",
        "int('124')"
      ],
      "execution_count": null,
      "outputs": [
        {
          "output_type": "execute_result",
          "data": {
            "text/plain": [
              "124"
            ]
          },
          "metadata": {
            "tags": []
          },
          "execution_count": 23
        }
      ]
    },
    {
      "cell_type": "code",
      "metadata": {
        "id": "3f4SNiv6UA8_",
        "colab": {
          "base_uri": "https://localhost:8080/"
        },
        "outputId": "612e3f1a-5e2f-4c90-a78c-cef4625b4361"
      },
      "source": [
        "# Int to float\n",
        "float(1234)"
      ],
      "execution_count": null,
      "outputs": [
        {
          "output_type": "execute_result",
          "data": {
            "text/plain": [
              "1234.0"
            ]
          },
          "metadata": {
            "tags": []
          },
          "execution_count": 24
        }
      ]
    },
    {
      "cell_type": "code",
      "metadata": {
        "id": "7jjXZjhZUA8_",
        "colab": {
          "base_uri": "https://localhost:8080/",
          "height": 35
        },
        "outputId": "c015d9f1-c087-44ad-83cf-f62bd0fae64a"
      },
      "source": [
        "# float to str\n",
        "str(123.5)"
      ],
      "execution_count": null,
      "outputs": [
        {
          "output_type": "execute_result",
          "data": {
            "application/vnd.google.colaboratory.intrinsic+json": {
              "type": "string"
            },
            "text/plain": [
              "'123.5'"
            ]
          },
          "metadata": {
            "tags": []
          },
          "execution_count": 25
        }
      ]
    },
    {
      "cell_type": "code",
      "metadata": {
        "id": "lrF7P-7YUA8_",
        "colab": {
          "base_uri": "https://localhost:8080/"
        },
        "outputId": "b8a827a0-61e0-429d-b34e-566e9f18d432"
      },
      "source": [
        "# float to int\n",
        "int(3.15)"
      ],
      "execution_count": null,
      "outputs": [
        {
          "output_type": "execute_result",
          "data": {
            "text/plain": [
              "3"
            ]
          },
          "metadata": {
            "tags": []
          },
          "execution_count": 26
        }
      ]
    },
    {
      "cell_type": "code",
      "metadata": {
        "id": "IEOiIM0dUA8_",
        "colab": {
          "base_uri": "https://localhost:8080/"
        },
        "outputId": "98a4d849-0265-4775-d4c8-54badf02209e"
      },
      "source": [
        "# Adding a numeric value to a string\n",
        "\n",
        "# Method 1: use '+' to concatenate\n",
        "print ('The first four digits of Pi are ' + str(3.142))\n",
        "\n",
        "# Method 2: use .format()\n",
        "print ('The first four digits of Pi are {} and the value of e is {}'.format(3.142, 2.73))"
      ],
      "execution_count": null,
      "outputs": [
        {
          "output_type": "stream",
          "text": [
            "The first four digits of Pi are 3.142\n",
            "The first four digits of Pi are 3.142 and the value of e is 2.73\n"
          ],
          "name": "stdout"
        }
      ]
    },
    {
      "cell_type": "code",
      "metadata": {
        "id": "vhGlKUlyUA8_",
        "colab": {
          "base_uri": "https://localhost:8080/"
        },
        "outputId": "dc98ec14-47d1-4e84-b901-d7c4d35c34f0"
      },
      "source": [
        "# Checking the types\n",
        "print (isinstance(f, float))\n",
        "print (isinstance(i, int))\n",
        "print (type(i) == int)\n",
        "print (type(f) == float)"
      ],
      "execution_count": null,
      "outputs": [
        {
          "output_type": "stream",
          "text": [
            "True\n",
            "True\n",
            "True\n",
            "True\n"
          ],
          "name": "stdout"
        }
      ]
    },
    {
      "cell_type": "code",
      "metadata": {
        "id": "pb-nRsFGUA9A",
        "colab": {
          "base_uri": "https://localhost:8080/"
        },
        "outputId": "eea78176-ee36-411e-ae09-724f543d6daf"
      },
      "source": [
        "# boolean\n",
        "b1 = True\n",
        "b2 = False\n",
        "\n",
        "type(b1)"
      ],
      "execution_count": null,
      "outputs": [
        {
          "output_type": "execute_result",
          "data": {
            "text/plain": [
              "bool"
            ]
          },
          "metadata": {
            "tags": []
          },
          "execution_count": 29
        }
      ]
    },
    {
      "cell_type": "code",
      "metadata": {
        "id": "wKYttnKQUA9A",
        "colab": {
          "base_uri": "https://localhost:8080/"
        },
        "outputId": "393f7774-4454-4682-a840-c738d8467f55"
      },
      "source": [
        "# complex numbers: note the use of `j` to specify the imaginary part\n",
        "x = 1.0 - 1.0j\n",
        "type(x)"
      ],
      "execution_count": null,
      "outputs": [
        {
          "output_type": "execute_result",
          "data": {
            "text/plain": [
              "complex"
            ]
          },
          "metadata": {
            "tags": []
          },
          "execution_count": 30
        }
      ]
    },
    {
      "cell_type": "code",
      "metadata": {
        "id": "vwRbL8nDUA9A",
        "colab": {
          "base_uri": "https://localhost:8080/"
        },
        "outputId": "2733442f-5bc9-45d9-9380-86b954e070e1"
      },
      "source": [
        "print(x)"
      ],
      "execution_count": null,
      "outputs": [
        {
          "output_type": "stream",
          "text": [
            "(1-1j)\n"
          ],
          "name": "stdout"
        }
      ]
    },
    {
      "cell_type": "code",
      "metadata": {
        "id": "8iRjtHMNUA9A",
        "colab": {
          "base_uri": "https://localhost:8080/"
        },
        "outputId": "39c88235-1120-4b97-a4bb-316596f02699"
      },
      "source": [
        "print(x.real, x.imag)"
      ],
      "execution_count": null,
      "outputs": [
        {
          "output_type": "stream",
          "text": [
            "1.0 -1.0\n"
          ],
          "name": "stdout"
        }
      ]
    },
    {
      "cell_type": "code",
      "metadata": {
        "colab": {
          "base_uri": "https://localhost:8080/"
        },
        "id": "fERD_aH_OZN6",
        "outputId": "3efd957c-487d-4544-d06b-23a51e66b647"
      },
      "source": [
        "x=124\r\n",
        "y='124'\r\n",
        "print(y)"
      ],
      "execution_count": null,
      "outputs": [
        {
          "output_type": "stream",
          "text": [
            "124\n"
          ],
          "name": "stdout"
        }
      ]
    },
    {
      "cell_type": "markdown",
      "metadata": {
        "id": "gAAk5_2TUA9B"
      },
      "source": [
        "### Type casting"
      ]
    },
    {
      "cell_type": "code",
      "metadata": {
        "id": "o66VDT4yUA9C",
        "colab": {
          "base_uri": "https://localhost:8080/"
        },
        "outputId": "ecb63f92-07d9-426d-e8a9-4f3317e3b9f9"
      },
      "source": [
        "x = 1.5\n",
        "\n",
        "print(x, type(x))"
      ],
      "execution_count": null,
      "outputs": [
        {
          "output_type": "stream",
          "text": [
            "1.5 <class 'float'>\n"
          ],
          "name": "stdout"
        }
      ]
    },
    {
      "cell_type": "code",
      "metadata": {
        "id": "BVlssB7ZUA9C",
        "colab": {
          "base_uri": "https://localhost:8080/"
        },
        "outputId": "b2c9ef4c-2a47-4dbd-ab2a-7fc219b5d42a"
      },
      "source": [
        "x = int(x)\n",
        "\n",
        "print(x, type(x))"
      ],
      "execution_count": null,
      "outputs": [
        {
          "output_type": "stream",
          "text": [
            "1 <class 'int'>\n"
          ],
          "name": "stdout"
        }
      ]
    },
    {
      "cell_type": "code",
      "metadata": {
        "id": "MYa0HFeMUA9C",
        "colab": {
          "base_uri": "https://localhost:8080/"
        },
        "outputId": "d8fb97ad-978b-45db-aa64-b58617952bae"
      },
      "source": [
        "z = complex(x)\n",
        "\n",
        "print(z, type(z))"
      ],
      "execution_count": null,
      "outputs": [
        {
          "output_type": "stream",
          "text": [
            "(1+0j) <class 'complex'>\n"
          ],
          "name": "stdout"
        }
      ]
    },
    {
      "cell_type": "code",
      "metadata": {
        "id": "RwHoCvrYUA9C",
        "colab": {
          "base_uri": "https://localhost:8080/",
          "height": 162
        },
        "outputId": "ec7a2cfc-910a-4bb4-e268-464bb28c7dae"
      },
      "source": [
        "x = float(z)"
      ],
      "execution_count": null,
      "outputs": [
        {
          "output_type": "error",
          "ename": "TypeError",
          "evalue": "ignored",
          "traceback": [
            "\u001b[0;31m---------------------------------------------------------------------------\u001b[0m",
            "\u001b[0;31mTypeError\u001b[0m                                 Traceback (most recent call last)",
            "\u001b[0;32m<ipython-input-40-19c840f40bd8>\u001b[0m in \u001b[0;36m<module>\u001b[0;34m()\u001b[0m\n\u001b[0;32m----> 1\u001b[0;31m \u001b[0mx\u001b[0m \u001b[0;34m=\u001b[0m \u001b[0mfloat\u001b[0m\u001b[0;34m(\u001b[0m\u001b[0mz\u001b[0m\u001b[0;34m)\u001b[0m\u001b[0;34m\u001b[0m\u001b[0;34m\u001b[0m\u001b[0m\n\u001b[0m",
            "\u001b[0;31mTypeError\u001b[0m: can't convert complex to float"
          ]
        }
      ]
    },
    {
      "cell_type": "markdown",
      "metadata": {
        "id": "xcCIHjXrUA9C"
      },
      "source": [
        "Complex variables cannot be cast to floats or integers. We need to use `z.real` or `z.imag` to extract the part of the complex number we want:"
      ]
    },
    {
      "cell_type": "code",
      "metadata": {
        "id": "j9khXGWzUA9C",
        "colab": {
          "base_uri": "https://localhost:8080/"
        },
        "outputId": "3c23c403-afe0-4d28-86b9-efdd9fda9102"
      },
      "source": [
        "y = bool(z.real)\n",
        "\n",
        "print(z.real, \" -> \", y, type(y))\n",
        "\n",
        "y = bool(z.imag)\n",
        "\n",
        "print(z.imag, \" -> \", y, type(y))"
      ],
      "execution_count": null,
      "outputs": [
        {
          "output_type": "stream",
          "text": [
            "1.0  ->  True <class 'bool'>\n",
            "0.0  ->  False <class 'bool'>\n"
          ],
          "name": "stdout"
        }
      ]
    },
    {
      "cell_type": "code",
      "metadata": {
        "colab": {
          "base_uri": "https://localhost:8080/"
        },
        "id": "Sm4GWEEaP2na",
        "outputId": "8e70b534-2978-4b17-d3df-773a42b93823"
      },
      "source": [
        "int(z.real)\r\n",
        "int(z.imag)"
      ],
      "execution_count": null,
      "outputs": [
        {
          "output_type": "execute_result",
          "data": {
            "text/plain": [
              "0"
            ]
          },
          "metadata": {
            "tags": []
          },
          "execution_count": 42
        }
      ]
    },
    {
      "cell_type": "markdown",
      "metadata": {
        "id": "QsIAdHSOUA9C"
      },
      "source": [
        "## Operators and comparisons"
      ]
    },
    {
      "cell_type": "markdown",
      "metadata": {
        "id": "0ILB1c02UA9C"
      },
      "source": [
        "Most operators and comparisons in Python work as one would expect:\n",
        "\n",
        "* Arithmetic operators `+`, `-`, `*`, `/`, `//` (integer division), '**' power\n"
      ]
    },
    {
      "cell_type": "code",
      "metadata": {
        "id": "__05IPKgUA9D",
        "colab": {
          "base_uri": "https://localhost:8080/"
        },
        "outputId": "428b0a60-e04e-46af-fa4f-40d7dd8a3884"
      },
      "source": [
        "1 + 2, 1 - 2, 1 * 2, 1 / 2"
      ],
      "execution_count": null,
      "outputs": [
        {
          "output_type": "execute_result",
          "data": {
            "text/plain": [
              "(3, -1, 2, 0.5)"
            ]
          },
          "metadata": {
            "tags": []
          },
          "execution_count": 44
        }
      ]
    },
    {
      "cell_type": "code",
      "metadata": {
        "id": "jbTnOTKbUA9D",
        "colab": {
          "base_uri": "https://localhost:8080/"
        },
        "outputId": "fc23a4a9-33bc-4da5-b15e-2f41b45f1a28"
      },
      "source": [
        "1.0 + 2.0, 1.0 - 2.0, 1.0 * 2.0, 1.0 / 2.0"
      ],
      "execution_count": null,
      "outputs": [
        {
          "output_type": "execute_result",
          "data": {
            "text/plain": [
              "(3.0, -1.0, 2.0, 0.5)"
            ]
          },
          "metadata": {
            "tags": []
          },
          "execution_count": 45
        }
      ]
    },
    {
      "cell_type": "code",
      "metadata": {
        "id": "3ut73Ib9UA9D",
        "colab": {
          "base_uri": "https://localhost:8080/"
        },
        "outputId": "19a6eb1e-965d-4730-e53d-f02ee9b6e4ee"
      },
      "source": [
        "# Integer division of float numbers\n",
        "3.0 // 2.0"
      ],
      "execution_count": null,
      "outputs": [
        {
          "output_type": "execute_result",
          "data": {
            "text/plain": [
              "1.0"
            ]
          },
          "metadata": {
            "tags": []
          },
          "execution_count": 46
        }
      ]
    },
    {
      "cell_type": "code",
      "metadata": {
        "id": "a19E5oFpUA9D",
        "colab": {
          "base_uri": "https://localhost:8080/"
        },
        "outputId": "1aa5f702-00f0-4bb5-fb27-766284d8ebe4"
      },
      "source": [
        "# Note! The power operators in python isn't ^, but **\n",
        "2 ** 2"
      ],
      "execution_count": null,
      "outputs": [
        {
          "output_type": "execute_result",
          "data": {
            "text/plain": [
              "4"
            ]
          },
          "metadata": {
            "tags": []
          },
          "execution_count": 47
        }
      ]
    },
    {
      "cell_type": "markdown",
      "metadata": {
        "id": "Q5k15f4jUA9E"
      },
      "source": [
        "Note: The `/` operator always performs a floating point division in Python 3.x.\n",
        "This is not true in Python 2.x, where the result of `/` is always an integer if the operands are integers.\n",
        "to be more specific, `1/2 = 0.5` (`float`) in Python 3.x, and `1/2 = 0` (`int`) in Python 2.x (but `1.0/2 = 0.5` in Python 2.x)."
      ]
    },
    {
      "cell_type": "markdown",
      "metadata": {
        "id": "DhwY146kUA9E"
      },
      "source": [
        "* The boolean operators are spelled out as the words `and`, `not`, `or`. "
      ]
    },
    {
      "cell_type": "markdown",
      "metadata": {
        "id": "AvqXKMtVUA9E"
      },
      "source": [
        "### Complex Logic using `and`, `or` and `xor`\n",
        "\n",
        "- `[A and B]` will give `True` only if both A and B are `True`\n",
        "- `[A or  B]` will give `True` if one or both of A, B are `True`\n",
        "- `[A xor B]` will give `True` if one is `True` but not both."
      ]
    },
    {
      "cell_type": "code",
      "metadata": {
        "id": "f2B69Sd4UA9E",
        "colab": {
          "base_uri": "https://localhost:8080/"
        },
        "outputId": "cc7a09f8-104e-4423-d751-bf84e3635413"
      },
      "source": [
        "True and False"
      ],
      "execution_count": null,
      "outputs": [
        {
          "output_type": "execute_result",
          "data": {
            "text/plain": [
              "False"
            ]
          },
          "metadata": {
            "tags": []
          },
          "execution_count": 48
        }
      ]
    },
    {
      "cell_type": "code",
      "metadata": {
        "id": "XhdCkrkeUA9E",
        "colab": {
          "base_uri": "https://localhost:8080/"
        },
        "outputId": "4f75aa35-e0d7-433f-b8ea-92d7cb5db42e"
      },
      "source": [
        "not False"
      ],
      "execution_count": null,
      "outputs": [
        {
          "output_type": "execute_result",
          "data": {
            "text/plain": [
              "True"
            ]
          },
          "metadata": {
            "tags": []
          },
          "execution_count": 49
        }
      ]
    },
    {
      "cell_type": "code",
      "metadata": {
        "id": "ueoSqYnmUA9E",
        "colab": {
          "base_uri": "https://localhost:8080/"
        },
        "outputId": "8ef615ee-7129-4301-c026-f88b4b5e7922"
      },
      "source": [
        "True or False"
      ],
      "execution_count": null,
      "outputs": [
        {
          "output_type": "execute_result",
          "data": {
            "text/plain": [
              "True"
            ]
          },
          "metadata": {
            "tags": []
          },
          "execution_count": 50
        }
      ]
    },
    {
      "cell_type": "markdown",
      "metadata": {
        "id": "-w9Fvl3DUA9H"
      },
      "source": [
        "* Comparison operators `>`, `<`, `>=` (greater or equal), `<=` (less or equal), `==` equality, `is` identical."
      ]
    },
    {
      "cell_type": "code",
      "metadata": {
        "id": "2Ld0nz95UA9H",
        "colab": {
          "base_uri": "https://localhost:8080/"
        },
        "outputId": "8d158f4e-8be7-4ec6-d910-018e42145830"
      },
      "source": [
        "2 > 1, 2 < 1"
      ],
      "execution_count": null,
      "outputs": [
        {
          "output_type": "execute_result",
          "data": {
            "text/plain": [
              "(True, False)"
            ]
          },
          "metadata": {
            "tags": []
          },
          "execution_count": 51
        }
      ]
    },
    {
      "cell_type": "code",
      "metadata": {
        "id": "hzJHOZlvUA9H",
        "colab": {
          "base_uri": "https://localhost:8080/"
        },
        "outputId": "c8a83fb4-f250-4daa-ebd3-aeab5492410a"
      },
      "source": [
        "2 > 2, 2 < 2"
      ],
      "execution_count": null,
      "outputs": [
        {
          "output_type": "execute_result",
          "data": {
            "text/plain": [
              "(False, False)"
            ]
          },
          "metadata": {
            "tags": []
          },
          "execution_count": 52
        }
      ]
    },
    {
      "cell_type": "code",
      "metadata": {
        "id": "nmrlSlqgUA9H",
        "colab": {
          "base_uri": "https://localhost:8080/"
        },
        "outputId": "2d6bd806-7114-4073-9bfd-79d904cb3b14"
      },
      "source": [
        "2 >= 2, 2 <= 2"
      ],
      "execution_count": null,
      "outputs": [
        {
          "output_type": "execute_result",
          "data": {
            "text/plain": [
              "(True, True)"
            ]
          },
          "metadata": {
            "tags": []
          },
          "execution_count": 53
        }
      ]
    },
    {
      "cell_type": "code",
      "metadata": {
        "id": "t6njTL-MUA9I",
        "colab": {
          "base_uri": "https://localhost:8080/"
        },
        "outputId": "c8d6d97f-04d0-4e6f-ce01-b14f4e96586f"
      },
      "source": [
        "# equality\n",
        "[1,2] == [1,2]"
      ],
      "execution_count": null,
      "outputs": [
        {
          "output_type": "execute_result",
          "data": {
            "text/plain": [
              "True"
            ]
          },
          "metadata": {
            "tags": []
          },
          "execution_count": 54
        }
      ]
    },
    {
      "cell_type": "code",
      "metadata": {
        "id": "uv8dm6OVUA9I",
        "colab": {
          "base_uri": "https://localhost:8080/"
        },
        "outputId": "2a50b2f2-d783-44ea-8b2e-7f70718ff7af"
      },
      "source": [
        "# objects identical?\n",
        "l1 = l2 = [1,2]\n",
        "\n",
        "l1 is l2"
      ],
      "execution_count": null,
      "outputs": [
        {
          "output_type": "execute_result",
          "data": {
            "text/plain": [
              "True"
            ]
          },
          "metadata": {
            "tags": []
          },
          "execution_count": 55
        }
      ]
    },
    {
      "cell_type": "markdown",
      "metadata": {
        "id": "GBIgw5n8UA9I"
      },
      "source": [
        "## Compound types: Strings, List and dictionaries"
      ]
    },
    {
      "cell_type": "markdown",
      "metadata": {
        "id": "T2LPApnXUA9I"
      },
      "source": [
        "### Strings"
      ]
    },
    {
      "cell_type": "markdown",
      "metadata": {
        "id": "mnmBJrJhUA9I"
      },
      "source": [
        "Strings are the variable type that is used for storing text messages. "
      ]
    },
    {
      "cell_type": "code",
      "metadata": {
        "id": "RNJvGbwoUA9I",
        "colab": {
          "base_uri": "https://localhost:8080/"
        },
        "outputId": "ac7c510d-60e5-4177-dddb-a1d75d8152f1"
      },
      "source": [
        "# str\n",
        "\n",
        "s1 = 'Delhi Technological University'\n",
        "\n",
        "s2 = \"\"\"\n",
        "Delhi Technological University\n",
        "Rohini, New Delhi\n",
        "\"\"\"\n",
        "\n",
        "print (s1)\n",
        "print (s2)\n"
      ],
      "execution_count": null,
      "outputs": [
        {
          "output_type": "stream",
          "text": [
            "Delhi Technological University\n",
            "\n",
            "Delhi Technological University\n",
            "Rohini, New Delhi\n",
            "\n"
          ],
          "name": "stdout"
        }
      ]
    },
    {
      "cell_type": "code",
      "metadata": {
        "id": "c4RpWa7VUA9I",
        "colab": {
          "base_uri": "https://localhost:8080/"
        },
        "outputId": "a4367ed0-3cfc-4e7f-8d39-33f337492a10"
      },
      "source": [
        "type(s1)"
      ],
      "execution_count": null,
      "outputs": [
        {
          "output_type": "execute_result",
          "data": {
            "text/plain": [
              "str"
            ]
          },
          "metadata": {
            "tags": []
          },
          "execution_count": 57
        }
      ]
    },
    {
      "cell_type": "code",
      "metadata": {
        "id": "Z3uXPKELUA9I",
        "colab": {
          "base_uri": "https://localhost:8080/"
        },
        "outputId": "98025a73-9aef-41f2-dcac-77352b7e4574"
      },
      "source": [
        "# length of the string: the number of characters\n",
        "len(s1)"
      ],
      "execution_count": null,
      "outputs": [
        {
          "output_type": "execute_result",
          "data": {
            "text/plain": [
              "30"
            ]
          },
          "metadata": {
            "tags": []
          },
          "execution_count": 58
        }
      ]
    },
    {
      "cell_type": "code",
      "metadata": {
        "id": "NUqQpGRlUA9J",
        "colab": {
          "base_uri": "https://localhost:8080/"
        },
        "outputId": "af22abec-e2e6-4425-fa6d-60d90d0d360e"
      },
      "source": [
        "# replace a substring in a string with something else\n",
        "s4 = s1.replace(\"Delhi Technological University\", \"DTU\")\n",
        "print(s4)"
      ],
      "execution_count": null,
      "outputs": [
        {
          "output_type": "stream",
          "text": [
            "DTU\n"
          ],
          "name": "stdout"
        }
      ]
    },
    {
      "cell_type": "markdown",
      "metadata": {
        "id": "1eWncmm1UA9J"
      },
      "source": [
        "#### String $Subsetting (slicing)$\n",
        "\n",
        "Syntax:<br>`my_str[start:stop:skip]`\n",
        "We can index a character in a string using `[]`:\n",
        "\n",
        "- Index runs from 0 to Length-1\n",
        "- Subsetting can be done in ranges as start_index : end_index"
      ]
    },
    {
      "cell_type": "code",
      "metadata": {
        "colab": {
          "base_uri": "https://localhost:8080/",
          "height": 35
        },
        "id": "UQQVGGbi1stF",
        "outputId": "92993bbe-bb89-45a8-ba5a-aed589cc677f"
      },
      "source": [
        "s1"
      ],
      "execution_count": null,
      "outputs": [
        {
          "output_type": "execute_result",
          "data": {
            "application/vnd.google.colaboratory.intrinsic+json": {
              "type": "string"
            },
            "text/plain": [
              "'Delhi Technological University'"
            ]
          },
          "metadata": {
            "tags": []
          },
          "execution_count": 60
        }
      ]
    },
    {
      "cell_type": "code",
      "metadata": {
        "id": "8iP583fVUA9J",
        "colab": {
          "base_uri": "https://localhost:8080/",
          "height": 35
        },
        "outputId": "3295f7a8-1c9d-4cc9-9144-415da1d0046d"
      },
      "source": [
        "s1[0]"
      ],
      "execution_count": null,
      "outputs": [
        {
          "output_type": "execute_result",
          "data": {
            "application/vnd.google.colaboratory.intrinsic+json": {
              "type": "string"
            },
            "text/plain": [
              "'D'"
            ]
          },
          "metadata": {
            "tags": []
          },
          "execution_count": 61
        }
      ]
    },
    {
      "cell_type": "code",
      "metadata": {
        "id": "VjdZavWDUA9J",
        "colab": {
          "base_uri": "https://localhost:8080/",
          "height": 35
        },
        "outputId": "fd8133c0-943d-4010-8b5a-6993b12836d6"
      },
      "source": [
        "s1[0:5]"
      ],
      "execution_count": null,
      "outputs": [
        {
          "output_type": "execute_result",
          "data": {
            "application/vnd.google.colaboratory.intrinsic+json": {
              "type": "string"
            },
            "text/plain": [
              "'Delhi'"
            ]
          },
          "metadata": {
            "tags": []
          },
          "execution_count": 62
        }
      ]
    },
    {
      "cell_type": "code",
      "metadata": {
        "id": "UrXonm86UA9J",
        "colab": {
          "base_uri": "https://localhost:8080/",
          "height": 35
        },
        "outputId": "64f9d968-40c1-40c7-fc5d-847e5233ddbc"
      },
      "source": [
        "s1[4:5]"
      ],
      "execution_count": null,
      "outputs": [
        {
          "output_type": "execute_result",
          "data": {
            "application/vnd.google.colaboratory.intrinsic+json": {
              "type": "string"
            },
            "text/plain": [
              "'i'"
            ]
          },
          "metadata": {
            "tags": []
          },
          "execution_count": 63
        }
      ]
    },
    {
      "cell_type": "markdown",
      "metadata": {
        "id": "9GuazdY1UA9J"
      },
      "source": [
        "If we omit either (or both) of `start` or `stop` from `[start:stop]`, the default is the beginning and the end of the string, respectively:"
      ]
    },
    {
      "cell_type": "code",
      "metadata": {
        "id": "lrmLW1W9UA9J",
        "colab": {
          "base_uri": "https://localhost:8080/",
          "height": 35
        },
        "outputId": "35a922a3-81ac-401a-92f7-60bf07f27c33"
      },
      "source": [
        "s1[:5]"
      ],
      "execution_count": null,
      "outputs": [
        {
          "output_type": "execute_result",
          "data": {
            "application/vnd.google.colaboratory.intrinsic+json": {
              "type": "string"
            },
            "text/plain": [
              "'Delhi'"
            ]
          },
          "metadata": {
            "tags": []
          },
          "execution_count": 64
        }
      ]
    },
    {
      "cell_type": "code",
      "metadata": {
        "id": "SwT-9bpfUA9J",
        "colab": {
          "base_uri": "https://localhost:8080/",
          "height": 35
        },
        "outputId": "a5622586-4581-4b39-cb20-1b5653adee49"
      },
      "source": [
        "s1[6:]"
      ],
      "execution_count": null,
      "outputs": [
        {
          "output_type": "execute_result",
          "data": {
            "application/vnd.google.colaboratory.intrinsic+json": {
              "type": "string"
            },
            "text/plain": [
              "'Technological University'"
            ]
          },
          "metadata": {
            "tags": []
          },
          "execution_count": 65
        }
      ]
    },
    {
      "cell_type": "code",
      "metadata": {
        "id": "3WiKEwY_UA9K",
        "colab": {
          "base_uri": "https://localhost:8080/",
          "height": 35
        },
        "outputId": "6598b32c-b019-4b9c-f205-6772cda6e6e4"
      },
      "source": [
        "s1[:]"
      ],
      "execution_count": null,
      "outputs": [
        {
          "output_type": "execute_result",
          "data": {
            "application/vnd.google.colaboratory.intrinsic+json": {
              "type": "string"
            },
            "text/plain": [
              "'Delhi Technological University'"
            ]
          },
          "metadata": {
            "tags": []
          },
          "execution_count": 66
        }
      ]
    },
    {
      "cell_type": "markdown",
      "metadata": {
        "id": "5S-OPOEBUA9K"
      },
      "source": [
        "We can also define the step size using the syntax `[start:end:step]` (the default value for `step` is 1, as we saw above):"
      ]
    },
    {
      "cell_type": "code",
      "metadata": {
        "id": "OQpWFlhqUA9K",
        "colab": {
          "base_uri": "https://localhost:8080/",
          "height": 35
        },
        "outputId": "070eae32-8b1e-4d61-8c6d-7f8a3479f7c5"
      },
      "source": [
        "s1[::1]"
      ],
      "execution_count": null,
      "outputs": [
        {
          "output_type": "execute_result",
          "data": {
            "application/vnd.google.colaboratory.intrinsic+json": {
              "type": "string"
            },
            "text/plain": [
              "'Delhi Technological University'"
            ]
          },
          "metadata": {
            "tags": []
          },
          "execution_count": 67
        }
      ]
    },
    {
      "cell_type": "code",
      "metadata": {
        "id": "-Rt13eAXUA9K",
        "colab": {
          "base_uri": "https://localhost:8080/",
          "height": 35
        },
        "outputId": "16aa593b-02cb-46c1-be17-45f439661431"
      },
      "source": [
        "s1[::2]"
      ],
      "execution_count": null,
      "outputs": [
        {
          "output_type": "execute_result",
          "data": {
            "application/vnd.google.colaboratory.intrinsic+json": {
              "type": "string"
            },
            "text/plain": [
              "'DliTcnlgclUiest'"
            ]
          },
          "metadata": {
            "tags": []
          },
          "execution_count": 68
        }
      ]
    },
    {
      "cell_type": "code",
      "metadata": {
        "colab": {
          "base_uri": "https://localhost:8080/",
          "height": 35
        },
        "id": "e6LhlW__SyhJ",
        "outputId": "6e23deac-8624-47ce-b882-720ee1a4f604"
      },
      "source": [
        "s1[:-1]"
      ],
      "execution_count": null,
      "outputs": [
        {
          "output_type": "execute_result",
          "data": {
            "application/vnd.google.colaboratory.intrinsic+json": {
              "type": "string"
            },
            "text/plain": [
              "'Delhi Technological Universit'"
            ]
          },
          "metadata": {
            "tags": []
          },
          "execution_count": 75
        }
      ]
    },
    {
      "cell_type": "markdown",
      "metadata": {
        "id": "srPEGTbKUA9K"
      },
      "source": [
        "This technique is called *slicing*. Read more about the syntax here: http://docs.python.org/release/2.7.3/library/functions.html?highlight=slice#slice"
      ]
    },
    {
      "cell_type": "markdown",
      "metadata": {
        "id": "RqFF1y1SUA9K"
      },
      "source": [
        "#### String Methods"
      ]
    },
    {
      "cell_type": "code",
      "metadata": {
        "id": "9uqKfVGJUA9K",
        "colab": {
          "base_uri": "https://localhost:8080/"
        },
        "outputId": "2f7f5c14-35a0-44bc-d0a0-6bb905e8d97b"
      },
      "source": [
        "s1.endswith('ty')"
      ],
      "execution_count": null,
      "outputs": [
        {
          "output_type": "execute_result",
          "data": {
            "text/plain": [
              "True"
            ]
          },
          "metadata": {
            "tags": []
          },
          "execution_count": 76
        }
      ]
    },
    {
      "cell_type": "code",
      "metadata": {
        "id": "W9KGTR3fUA9L",
        "colab": {
          "base_uri": "https://localhost:8080/"
        },
        "outputId": "43cd40d6-5b08-4336-9221-3ded335c559f"
      },
      "source": [
        "s1.split(\" \")"
      ],
      "execution_count": null,
      "outputs": [
        {
          "output_type": "execute_result",
          "data": {
            "text/plain": [
              "['Delhi', 'Technological', 'University']"
            ]
          },
          "metadata": {
            "tags": []
          },
          "execution_count": 77
        }
      ]
    },
    {
      "cell_type": "code",
      "metadata": {
        "colab": {
          "base_uri": "https://localhost:8080/"
        },
        "id": "JoaX9jvgToIv",
        "outputId": "b359a994-4ff5-4b4c-bc30-b4e23e26ec35"
      },
      "source": [
        "s1.split(\"l\")"
      ],
      "execution_count": null,
      "outputs": [
        {
          "output_type": "execute_result",
          "data": {
            "text/plain": [
              "['De', 'hi Techno', 'ogica', ' University']"
            ]
          },
          "metadata": {
            "tags": []
          },
          "execution_count": 78
        }
      ]
    },
    {
      "cell_type": "code",
      "metadata": {
        "colab": {
          "base_uri": "https://localhost:8080/",
          "height": 35
        },
        "id": "xMFJsM2lT4cT",
        "outputId": "e20649d9-8e4d-4a67-be33-7bd7217fd56e"
      },
      "source": [
        "s1"
      ],
      "execution_count": null,
      "outputs": [
        {
          "output_type": "execute_result",
          "data": {
            "application/vnd.google.colaboratory.intrinsic+json": {
              "type": "string"
            },
            "text/plain": [
              "'Delhi Technological University'"
            ]
          },
          "metadata": {
            "tags": []
          },
          "execution_count": 79
        }
      ]
    },
    {
      "cell_type": "code",
      "metadata": {
        "id": "GkW-mMgKUA9L",
        "colab": {
          "base_uri": "https://localhost:8080/"
        },
        "outputId": "f9e74416-2e21-425b-ee98-63674e63b930"
      },
      "source": [
        "s1.find('Tech')"
      ],
      "execution_count": null,
      "outputs": [
        {
          "output_type": "execute_result",
          "data": {
            "text/plain": [
              "6"
            ]
          },
          "metadata": {
            "tags": []
          },
          "execution_count": 80
        }
      ]
    },
    {
      "cell_type": "code",
      "metadata": {
        "id": "fvIUgKy-UA9L"
      },
      "source": [
        "### Splitting a string gives a list\n",
        "s5= \"DTU is a premier institute for engineering\"\n",
        "s6= s5.split(\" \")"
      ],
      "execution_count": null,
      "outputs": []
    },
    {
      "cell_type": "code",
      "metadata": {
        "id": "BHjyr3XRUA9L",
        "colab": {
          "base_uri": "https://localhost:8080/"
        },
        "outputId": "e254cfb2-bd90-4228-e10b-19dcd3240edf"
      },
      "source": [
        "s6"
      ],
      "execution_count": null,
      "outputs": [
        {
          "output_type": "execute_result",
          "data": {
            "text/plain": [
              "['DTU', 'is', 'a', 'premier', 'institute', 'for', 'engineering']"
            ]
          },
          "metadata": {
            "tags": []
          },
          "execution_count": 82
        }
      ]
    },
    {
      "cell_type": "code",
      "metadata": {
        "id": "xSCZdFwUUA9L",
        "colab": {
          "base_uri": "https://localhost:8080/"
        },
        "outputId": "43a69b65-70f0-4b7d-b124-746cd4c17c0d"
      },
      "source": [
        "type(s6)"
      ],
      "execution_count": null,
      "outputs": [
        {
          "output_type": "execute_result",
          "data": {
            "text/plain": [
              "list"
            ]
          },
          "metadata": {
            "tags": []
          },
          "execution_count": 83
        }
      ]
    },
    {
      "cell_type": "markdown",
      "metadata": {
        "id": "f3i1awQEUA9L"
      },
      "source": [
        "#### String Airthmatic"
      ]
    },
    {
      "cell_type": "code",
      "metadata": {
        "id": "HwTDiaz1UA9L",
        "colab": {
          "base_uri": "https://localhost:8080/",
          "height": 35
        },
        "outputId": "73bf04c0-edcd-464a-9538-b5313e3ba84c"
      },
      "source": [
        "s5 + ' based out of Rohini,' + ' New Delhi'"
      ],
      "execution_count": null,
      "outputs": [
        {
          "output_type": "execute_result",
          "data": {
            "application/vnd.google.colaboratory.intrinsic+json": {
              "type": "string"
            },
            "text/plain": [
              "'DTU is a premier institute for engineering based out of Rohini, New Delhi'"
            ]
          },
          "metadata": {
            "tags": []
          },
          "execution_count": 84
        }
      ]
    },
    {
      "cell_type": "code",
      "metadata": {
        "id": "5ald_utLUA9M",
        "colab": {
          "base_uri": "https://localhost:8080/",
          "height": 35
        },
        "outputId": "feddc354-c38d-49f5-bfe5-0ea8a798b334"
      },
      "source": [
        "'DTU ' * 4"
      ],
      "execution_count": null,
      "outputs": [
        {
          "output_type": "execute_result",
          "data": {
            "application/vnd.google.colaboratory.intrinsic+json": {
              "type": "string"
            },
            "text/plain": [
              "'DTU DTU DTU DTU '"
            ]
          },
          "metadata": {
            "tags": []
          },
          "execution_count": 85
        }
      ]
    },
    {
      "cell_type": "markdown",
      "metadata": {
        "id": "jX8MY32tUA9M"
      },
      "source": [
        "#### Type Conversions to/from strings"
      ]
    },
    {
      "cell_type": "code",
      "metadata": {
        "id": "1gMU-mhpUA9M",
        "colab": {
          "base_uri": "https://localhost:8080/",
          "height": 35
        },
        "outputId": "1738aa0c-147f-4ec3-afd3-d015f05b2e77"
      },
      "source": [
        "str(12345)"
      ],
      "execution_count": null,
      "outputs": [
        {
          "output_type": "execute_result",
          "data": {
            "application/vnd.google.colaboratory.intrinsic+json": {
              "type": "string"
            },
            "text/plain": [
              "'12345'"
            ]
          },
          "metadata": {
            "tags": []
          },
          "execution_count": 86
        }
      ]
    },
    {
      "cell_type": "code",
      "metadata": {
        "id": "MsusvsLhUA9M",
        "colab": {
          "base_uri": "https://localhost:8080/",
          "height": 35
        },
        "outputId": "6723c18b-6433-4b32-8888-46a2e14f4452"
      },
      "source": [
        "'Apple' + str(7)"
      ],
      "execution_count": null,
      "outputs": [
        {
          "output_type": "execute_result",
          "data": {
            "application/vnd.google.colaboratory.intrinsic+json": {
              "type": "string"
            },
            "text/plain": [
              "'Apple7'"
            ]
          },
          "metadata": {
            "tags": []
          },
          "execution_count": 87
        }
      ]
    },
    {
      "cell_type": "code",
      "metadata": {
        "id": "QXpf91bxUA9M",
        "colab": {
          "base_uri": "https://localhost:8080/"
        },
        "outputId": "84a74a60-cacf-40f3-a86d-e9ac149aafeb"
      },
      "source": [
        "int('123')"
      ],
      "execution_count": null,
      "outputs": [
        {
          "output_type": "execute_result",
          "data": {
            "text/plain": [
              "123"
            ]
          },
          "metadata": {
            "tags": []
          },
          "execution_count": 88
        }
      ]
    },
    {
      "cell_type": "code",
      "metadata": {
        "id": "GWy8sLjUUA9M",
        "colab": {
          "base_uri": "https://localhost:8080/"
        },
        "outputId": "70d0fa4b-ba92-4af5-9e01-7e4419edc2f8"
      },
      "source": [
        "float('3.142')"
      ],
      "execution_count": null,
      "outputs": [
        {
          "output_type": "execute_result",
          "data": {
            "text/plain": [
              "3.142"
            ]
          },
          "metadata": {
            "tags": []
          },
          "execution_count": 89
        }
      ]
    },
    {
      "cell_type": "code",
      "metadata": {
        "colab": {
          "base_uri": "https://localhost:8080/",
          "height": 162
        },
        "id": "s9kwKB_jUf93",
        "outputId": "69a87071-fcea-401d-b9d3-7872fb276538"
      },
      "source": [
        "int('e')"
      ],
      "execution_count": null,
      "outputs": [
        {
          "output_type": "error",
          "ename": "ValueError",
          "evalue": "ignored",
          "traceback": [
            "\u001b[0;31m---------------------------------------------------------------------------\u001b[0m",
            "\u001b[0;31mValueError\u001b[0m                                Traceback (most recent call last)",
            "\u001b[0;32m<ipython-input-90-2fc4476e06ee>\u001b[0m in \u001b[0;36m<module>\u001b[0;34m()\u001b[0m\n\u001b[0;32m----> 1\u001b[0;31m \u001b[0mint\u001b[0m\u001b[0;34m(\u001b[0m\u001b[0;34m'e'\u001b[0m\u001b[0;34m)\u001b[0m\u001b[0;34m\u001b[0m\u001b[0;34m\u001b[0m\u001b[0m\n\u001b[0m",
            "\u001b[0;31mValueError\u001b[0m: invalid literal for int() with base 10: 'e'"
          ]
        }
      ]
    },
    {
      "cell_type": "markdown",
      "metadata": {
        "id": "YTo8Nm6AUA9M"
      },
      "source": [
        "#### String formatting examples"
      ]
    },
    {
      "cell_type": "code",
      "metadata": {
        "id": "CmLXuEtNUA9M",
        "colab": {
          "base_uri": "https://localhost:8080/"
        },
        "outputId": "6d5fec77-3544-4e47-9386-971cc86ac921"
      },
      "source": [
        "print(\"str1\", \"str2\", \"str3\")  # The print statement concatenates strings with a space"
      ],
      "execution_count": null,
      "outputs": [
        {
          "output_type": "stream",
          "text": [
            "str1 str2 str3\n"
          ],
          "name": "stdout"
        }
      ]
    },
    {
      "cell_type": "code",
      "metadata": {
        "id": "7YXsMoaFUA9N",
        "colab": {
          "base_uri": "https://localhost:8080/"
        },
        "outputId": "4700c2ee-fc5f-4c08-e536-cf2c95cc0c58"
      },
      "source": [
        "print(\"str1\", 1.0, False, -1j)  # The print statements converts all arguments to strings"
      ],
      "execution_count": null,
      "outputs": [
        {
          "output_type": "stream",
          "text": [
            "str1 1.0 False (-0-1j)\n"
          ],
          "name": "stdout"
        }
      ]
    },
    {
      "cell_type": "code",
      "metadata": {
        "id": "9ANLoUbbUA9N",
        "colab": {
          "base_uri": "https://localhost:8080/"
        },
        "outputId": "f0ce9115-8e4c-4aed-b00a-53a3929c7304"
      },
      "source": [
        "print(\"str1\" + \"str2\" + \"str3\") # strings added with + are concatenated without space"
      ],
      "execution_count": null,
      "outputs": [
        {
          "output_type": "stream",
          "text": [
            "str1str2str3\n"
          ],
          "name": "stdout"
        }
      ]
    },
    {
      "cell_type": "code",
      "metadata": {
        "colab": {
          "base_uri": "https://localhost:8080/"
        },
        "id": "sysEAqbmU17n",
        "outputId": "d4fd770d-cdf4-413f-ecc8-7983d3999bc9"
      },
      "source": [
        "y=print(\"str1\" + \"str2\" + \"str3\")"
      ],
      "execution_count": null,
      "outputs": [
        {
          "output_type": "stream",
          "text": [
            "str1str2str3\n"
          ],
          "name": "stdout"
        }
      ]
    },
    {
      "cell_type": "code",
      "metadata": {
        "colab": {
          "base_uri": "https://localhost:8080/"
        },
        "id": "TSs5U58pU5qN",
        "outputId": "addf4c08-9aef-42c4-ec12-08bc0fcb4642"
      },
      "source": [
        "print(y)"
      ],
      "execution_count": null,
      "outputs": [
        {
          "output_type": "stream",
          "text": [
            "None\n"
          ],
          "name": "stdout"
        }
      ]
    },
    {
      "cell_type": "code",
      "metadata": {
        "id": "WHXpfmsnUA9N",
        "colab": {
          "base_uri": "https://localhost:8080/"
        },
        "outputId": "a9c93127-a17c-4468-d81a-034d2224f733"
      },
      "source": [
        "print(\"value = %f\" % 1.0)       # we can use C-style string formatting"
      ],
      "execution_count": null,
      "outputs": [
        {
          "output_type": "stream",
          "text": [
            "value = 1.000000\n"
          ],
          "name": "stdout"
        }
      ]
    }
  ]
}